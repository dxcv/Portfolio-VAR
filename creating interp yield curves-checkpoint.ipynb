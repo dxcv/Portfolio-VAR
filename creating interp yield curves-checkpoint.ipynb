{
 "cells": [
  {
   "cell_type": "code",
   "execution_count": 7,
   "metadata": {},
   "outputs": [],
   "source": [
    "import pandas as pd\n",
    "import numpy as np \n",
    "import scipy.interpolate"
   ]
  },
  {
   "cell_type": "code",
   "execution_count": 4,
   "metadata": {},
   "outputs": [
    {
     "data": {
      "text/html": [
       "<div>\n",
       "<style scoped>\n",
       "    .dataframe tbody tr th:only-of-type {\n",
       "        vertical-align: middle;\n",
       "    }\n",
       "\n",
       "    .dataframe tbody tr th {\n",
       "        vertical-align: top;\n",
       "    }\n",
       "\n",
       "    .dataframe thead th {\n",
       "        text-align: right;\n",
       "    }\n",
       "</style>\n",
       "<table border=\"1\" class=\"dataframe\">\n",
       "  <thead>\n",
       "    <tr style=\"text-align: right;\">\n",
       "      <th></th>\n",
       "      <th>Date</th>\n",
       "      <th>0</th>\n",
       "      <th>30.41666667</th>\n",
       "      <th>60.83333333</th>\n",
       "      <th>91.25</th>\n",
       "      <th>182.5</th>\n",
       "      <th>273.75</th>\n",
       "      <th>365</th>\n",
       "      <th>730</th>\n",
       "      <th>1095</th>\n",
       "      <th>1460</th>\n",
       "      <th>1825</th>\n",
       "      <th>2190</th>\n",
       "      <th>2555</th>\n",
       "      <th>2920</th>\n",
       "      <th>3285</th>\n",
       "    </tr>\n",
       "  </thead>\n",
       "  <tbody>\n",
       "    <tr>\n",
       "      <th>2757</th>\n",
       "      <td>2019/07/29</td>\n",
       "      <td>1.0349</td>\n",
       "      <td>1.0344</td>\n",
       "      <td>1.0340</td>\n",
       "      <td>1.0436</td>\n",
       "      <td>0.9983</td>\n",
       "      <td>0.9541</td>\n",
       "      <td>0.9374</td>\n",
       "      <td>0.8470</td>\n",
       "      <td>0.8931</td>\n",
       "      <td>1.0152</td>\n",
       "      <td>1.0795</td>\n",
       "      <td>1.1633</td>\n",
       "      <td>1.2453</td>\n",
       "      <td>1.3240</td>\n",
       "      <td>1.3982</td>\n",
       "    </tr>\n",
       "    <tr>\n",
       "      <th>2758</th>\n",
       "      <td>2019/07/30</td>\n",
       "      <td>1.0349</td>\n",
       "      <td>1.0243</td>\n",
       "      <td>1.0239</td>\n",
       "      <td>1.0335</td>\n",
       "      <td>0.9842</td>\n",
       "      <td>0.9340</td>\n",
       "      <td>0.9109</td>\n",
       "      <td>0.8337</td>\n",
       "      <td>0.8797</td>\n",
       "      <td>1.0010</td>\n",
       "      <td>1.0645</td>\n",
       "      <td>1.1502</td>\n",
       "      <td>1.2326</td>\n",
       "      <td>1.3132</td>\n",
       "      <td>1.3901</td>\n",
       "    </tr>\n",
       "    <tr>\n",
       "      <th>2759</th>\n",
       "      <td>2019/07/31</td>\n",
       "      <td>1.0450</td>\n",
       "      <td>1.0445</td>\n",
       "      <td>1.0440</td>\n",
       "      <td>1.0436</td>\n",
       "      <td>1.0072</td>\n",
       "      <td>0.9522</td>\n",
       "      <td>0.9213</td>\n",
       "      <td>0.8397</td>\n",
       "      <td>0.8842</td>\n",
       "      <td>1.0009</td>\n",
       "      <td>1.0596</td>\n",
       "      <td>1.1410</td>\n",
       "      <td>1.2233</td>\n",
       "      <td>1.3026</td>\n",
       "      <td>1.3779</td>\n",
       "    </tr>\n",
       "    <tr>\n",
       "      <th>2760</th>\n",
       "      <td>2019/08/01</td>\n",
       "      <td>1.0551</td>\n",
       "      <td>1.0445</td>\n",
       "      <td>1.0340</td>\n",
       "      <td>1.0436</td>\n",
       "      <td>1.0132</td>\n",
       "      <td>0.9432</td>\n",
       "      <td>0.9168</td>\n",
       "      <td>0.8104</td>\n",
       "      <td>0.8464</td>\n",
       "      <td>0.9563</td>\n",
       "      <td>1.0115</td>\n",
       "      <td>1.0876</td>\n",
       "      <td>1.1640</td>\n",
       "      <td>1.2406</td>\n",
       "      <td>1.3111</td>\n",
       "    </tr>\n",
       "    <tr>\n",
       "      <th>2761</th>\n",
       "      <td>2019/08/02</td>\n",
       "      <td>1.0449</td>\n",
       "      <td>1.0344</td>\n",
       "      <td>1.0138</td>\n",
       "      <td>1.0335</td>\n",
       "      <td>0.9978</td>\n",
       "      <td>0.9295</td>\n",
       "      <td>0.9044</td>\n",
       "      <td>0.7954</td>\n",
       "      <td>0.8295</td>\n",
       "      <td>0.9346</td>\n",
       "      <td>0.9839</td>\n",
       "      <td>1.0598</td>\n",
       "      <td>1.1356</td>\n",
       "      <td>1.2091</td>\n",
       "      <td>1.2804</td>\n",
       "    </tr>\n",
       "  </tbody>\n",
       "</table>\n",
       "</div>"
      ],
      "text/plain": [
       "           Date        0  30.41666667  60.83333333   91.25   182.5  273.75  \\\n",
       "2757  2019/07/29  1.0349       1.0344       1.0340  1.0436  0.9983  0.9541   \n",
       "2758  2019/07/30  1.0349       1.0243       1.0239  1.0335  0.9842  0.9340   \n",
       "2759  2019/07/31  1.0450       1.0445       1.0440  1.0436  1.0072  0.9522   \n",
       "2760  2019/08/01  1.0551       1.0445       1.0340  1.0436  1.0132  0.9432   \n",
       "2761  2019/08/02  1.0449       1.0344       1.0138  1.0335  0.9978  0.9295   \n",
       "\n",
       "         365     730    1095    1460    1825    2190    2555    2920    3285  \n",
       "2757  0.9374  0.8470  0.8931  1.0152  1.0795  1.1633  1.2453  1.3240  1.3982  \n",
       "2758  0.9109  0.8337  0.8797  1.0010  1.0645  1.1502  1.2326  1.3132  1.3901  \n",
       "2759  0.9213  0.8397  0.8842  1.0009  1.0596  1.1410  1.2233  1.3026  1.3779  \n",
       "2760  0.9168  0.8104  0.8464  0.9563  1.0115  1.0876  1.1640  1.2406  1.3111  \n",
       "2761  0.9044  0.7954  0.8295  0.9346  0.9839  1.0598  1.1356  1.2091  1.2804  "
      ]
     },
     "execution_count": 4,
     "metadata": {},
     "output_type": "execute_result"
    }
   ],
   "source": [
    "hist_zero_curves = pd.read_csv('hist_bond_yields.csv') \n",
    "hist_zero_curves.tail()"
   ]
  },
  {
   "cell_type": "code",
   "execution_count": 5,
   "metadata": {},
   "outputs": [
    {
     "data": {
      "text/plain": [
       "[0,\n",
       " 30.41666667,\n",
       " 60.83333333,\n",
       " 91.25,\n",
       " 182.5,\n",
       " 273.75,\n",
       " 365,\n",
       " 730,\n",
       " 1095,\n",
       " 1460,\n",
       " 1825,\n",
       " 2190,\n",
       " 2555,\n",
       " 2920,\n",
       " 3285]"
      ]
     },
     "execution_count": 5,
     "metadata": {},
     "output_type": "execute_result"
    }
   ],
   "source": [
    "X = [0,30.41666667,60.83333333,91.25,182.5,273.75,365,730,1095,1460,1825,2190,2555,2920,3285]\n",
    "X\n",
    "#interp = scipy.interpolate.interp1d(Bond_Yields['Time'], Bond_Yields['Rate'], bounds_error=False, fill_value=scipy.nan)"
   ]
  },
  {
   "cell_type": "code",
   "execution_count": 8,
   "metadata": {},
   "outputs": [],
   "source": [
    "interp = scipy.interpolate.interp1d(X, hist_zero_curves.iloc[2761, 1:], bounds_error=False, fill_value=scipy.nan)"
   ]
  },
  {
   "cell_type": "code",
   "execution_count": 10,
   "metadata": {},
   "outputs": [
    {
     "data": {
      "text/plain": [
       "0.802967397260274"
      ]
     },
     "execution_count": 10,
     "metadata": {},
     "output_type": "execute_result"
    }
   ],
   "source": [
    "float(interp(811))"
   ]
  },
  {
   "cell_type": "code",
   "execution_count": 14,
   "metadata": {},
   "outputs": [],
   "source": [
    "dateindex = list(i for i in range(0, 2762))"
   ]
  },
  {
   "cell_type": "code",
   "execution_count": 15,
   "metadata": {},
   "outputs": [
    {
     "data": {
      "text/plain": [
       "[77,\n",
       " 105,\n",
       " 166,\n",
       " 260,\n",
       " 290,\n",
       " 348,\n",
       " 446,\n",
       " 474,\n",
       " 532,\n",
       " 628,\n",
       " 655,\n",
       " 713,\n",
       " 811,\n",
       " 842,\n",
       " 897,\n",
       " 993,\n",
       " 1023,\n",
       " 1078,\n",
       " 1176,\n",
       " 1207,\n",
       " 1358]"
      ]
     },
     "execution_count": 15,
     "metadata": {},
     "output_type": "execute_result"
    }
   ],
   "source": [
    "tointerp = [77, 105, 166, 260, 290, 348, 446, 474, 532, \n",
    "            628, 655, 713, 811, 842, 897, 993, 1023, 1078,1176,1207, 1358]\n"
   ]
  },
  {
   "cell_type": "code",
   "execution_count": 16,
   "metadata": {},
   "outputs": [],
   "source": [
    "#def interp(Date, YTM):\n",
    "#    interp = scipy.interpolate.interp1d(X, hist_zero_curves.iloc[Date, 1:], \n",
    "#                                        bounds_error=False, fill_value=scipy.nan)\n",
    "#    float(interp(YTM))\n",
    "    "
   ]
  },
  {
   "cell_type": "code",
   "execution_count": 57,
   "metadata": {},
   "outputs": [],
   "source": [
    "out77 = []\n",
    "out105 = []\n",
    "testtointerp = [77, 105]\n",
    "\n",
    "df = pd.DataFrame()\n",
    "\n",
    "\n",
    "    "
   ]
  },
  {
   "cell_type": "code",
   "execution_count": 61,
   "metadata": {},
   "outputs": [
    {
     "ename": "KeyError",
     "evalue": "'77out'",
     "output_type": "error",
     "traceback": [
      "\u001b[1;31m---------------------------------------------------------------------------\u001b[0m",
      "\u001b[1;31mKeyError\u001b[0m                                  Traceback (most recent call last)",
      "\u001b[1;32mc:\\users\\mat\\appdata\\local\\programs\\python\\python37-32\\lib\\site-packages\\pandas\\core\\indexes\\base.py\u001b[0m in \u001b[0;36mget_loc\u001b[1;34m(self, key, method, tolerance)\u001b[0m\n\u001b[0;32m   2656\u001b[0m             \u001b[1;32mtry\u001b[0m\u001b[1;33m:\u001b[0m\u001b[1;33m\u001b[0m\u001b[1;33m\u001b[0m\u001b[0m\n\u001b[1;32m-> 2657\u001b[1;33m                 \u001b[1;32mreturn\u001b[0m \u001b[0mself\u001b[0m\u001b[1;33m.\u001b[0m\u001b[0m_engine\u001b[0m\u001b[1;33m.\u001b[0m\u001b[0mget_loc\u001b[0m\u001b[1;33m(\u001b[0m\u001b[0mkey\u001b[0m\u001b[1;33m)\u001b[0m\u001b[1;33m\u001b[0m\u001b[1;33m\u001b[0m\u001b[0m\n\u001b[0m\u001b[0;32m   2658\u001b[0m             \u001b[1;32mexcept\u001b[0m \u001b[0mKeyError\u001b[0m\u001b[1;33m:\u001b[0m\u001b[1;33m\u001b[0m\u001b[1;33m\u001b[0m\u001b[0m\n",
      "\u001b[1;32mpandas\\_libs\\index.pyx\u001b[0m in \u001b[0;36mpandas._libs.index.IndexEngine.get_loc\u001b[1;34m()\u001b[0m\n",
      "\u001b[1;32mpandas\\_libs\\index.pyx\u001b[0m in \u001b[0;36mpandas._libs.index.IndexEngine.get_loc\u001b[1;34m()\u001b[0m\n",
      "\u001b[1;32mpandas\\_libs\\hashtable_class_helper.pxi\u001b[0m in \u001b[0;36mpandas._libs.hashtable.PyObjectHashTable.get_item\u001b[1;34m()\u001b[0m\n",
      "\u001b[1;32mpandas\\_libs\\hashtable_class_helper.pxi\u001b[0m in \u001b[0;36mpandas._libs.hashtable.PyObjectHashTable.get_item\u001b[1;34m()\u001b[0m\n",
      "\u001b[1;31mKeyError\u001b[0m: '77out'",
      "\nDuring handling of the above exception, another exception occurred:\n",
      "\u001b[1;31mKeyError\u001b[0m                                  Traceback (most recent call last)",
      "\u001b[1;32m<ipython-input-61-d0adcb6b56f0>\u001b[0m in \u001b[0;36m<module>\u001b[1;34m\u001b[0m\n\u001b[0;32m      8\u001b[0m \u001b[1;33m\u001b[0m\u001b[0m\n\u001b[0;32m      9\u001b[0m \u001b[1;33m\u001b[0m\u001b[0m\n\u001b[1;32m---> 10\u001b[1;33m         \u001b[0mdf\u001b[0m\u001b[1;33m[\u001b[0m\u001b[0mstr\u001b[0m\u001b[1;33m(\u001b[0m\u001b[0mx\u001b[0m\u001b[1;33m)\u001b[0m \u001b[1;33m+\u001b[0m \u001b[1;34m'out'\u001b[0m\u001b[1;33m]\u001b[0m\u001b[1;33m.\u001b[0m\u001b[0mappend\u001b[0m\u001b[1;33m(\u001b[0m\u001b[0mfloat\u001b[0m\u001b[1;33m(\u001b[0m\u001b[0minterp\u001b[0m\u001b[1;33m(\u001b[0m\u001b[0mx\u001b[0m\u001b[1;33m)\u001b[0m\u001b[1;33m)\u001b[0m\u001b[1;33m)\u001b[0m\u001b[1;33m\u001b[0m\u001b[1;33m\u001b[0m\u001b[0m\n\u001b[0m\u001b[0;32m     11\u001b[0m         \u001b[1;31m#x = (float(interp(x)))\u001b[0m\u001b[1;33m\u001b[0m\u001b[1;33m\u001b[0m\u001b[1;33m\u001b[0m\u001b[0m\n\u001b[0;32m     12\u001b[0m         \u001b[1;31m#output = pd.DataFrame().append(float(interp(x)))\u001b[0m\u001b[1;33m\u001b[0m\u001b[1;33m\u001b[0m\u001b[1;33m\u001b[0m\u001b[0m\n",
      "\u001b[1;32mc:\\users\\mat\\appdata\\local\\programs\\python\\python37-32\\lib\\site-packages\\pandas\\core\\frame.py\u001b[0m in \u001b[0;36m__getitem__\u001b[1;34m(self, key)\u001b[0m\n\u001b[0;32m   2925\u001b[0m             \u001b[1;32mif\u001b[0m \u001b[0mself\u001b[0m\u001b[1;33m.\u001b[0m\u001b[0mcolumns\u001b[0m\u001b[1;33m.\u001b[0m\u001b[0mnlevels\u001b[0m \u001b[1;33m>\u001b[0m \u001b[1;36m1\u001b[0m\u001b[1;33m:\u001b[0m\u001b[1;33m\u001b[0m\u001b[1;33m\u001b[0m\u001b[0m\n\u001b[0;32m   2926\u001b[0m                 \u001b[1;32mreturn\u001b[0m \u001b[0mself\u001b[0m\u001b[1;33m.\u001b[0m\u001b[0m_getitem_multilevel\u001b[0m\u001b[1;33m(\u001b[0m\u001b[0mkey\u001b[0m\u001b[1;33m)\u001b[0m\u001b[1;33m\u001b[0m\u001b[1;33m\u001b[0m\u001b[0m\n\u001b[1;32m-> 2927\u001b[1;33m             \u001b[0mindexer\u001b[0m \u001b[1;33m=\u001b[0m \u001b[0mself\u001b[0m\u001b[1;33m.\u001b[0m\u001b[0mcolumns\u001b[0m\u001b[1;33m.\u001b[0m\u001b[0mget_loc\u001b[0m\u001b[1;33m(\u001b[0m\u001b[0mkey\u001b[0m\u001b[1;33m)\u001b[0m\u001b[1;33m\u001b[0m\u001b[1;33m\u001b[0m\u001b[0m\n\u001b[0m\u001b[0;32m   2928\u001b[0m             \u001b[1;32mif\u001b[0m \u001b[0mis_integer\u001b[0m\u001b[1;33m(\u001b[0m\u001b[0mindexer\u001b[0m\u001b[1;33m)\u001b[0m\u001b[1;33m:\u001b[0m\u001b[1;33m\u001b[0m\u001b[1;33m\u001b[0m\u001b[0m\n\u001b[0;32m   2929\u001b[0m                 \u001b[0mindexer\u001b[0m \u001b[1;33m=\u001b[0m \u001b[1;33m[\u001b[0m\u001b[0mindexer\u001b[0m\u001b[1;33m]\u001b[0m\u001b[1;33m\u001b[0m\u001b[1;33m\u001b[0m\u001b[0m\n",
      "\u001b[1;32mc:\\users\\mat\\appdata\\local\\programs\\python\\python37-32\\lib\\site-packages\\pandas\\core\\indexes\\base.py\u001b[0m in \u001b[0;36mget_loc\u001b[1;34m(self, key, method, tolerance)\u001b[0m\n\u001b[0;32m   2657\u001b[0m                 \u001b[1;32mreturn\u001b[0m \u001b[0mself\u001b[0m\u001b[1;33m.\u001b[0m\u001b[0m_engine\u001b[0m\u001b[1;33m.\u001b[0m\u001b[0mget_loc\u001b[0m\u001b[1;33m(\u001b[0m\u001b[0mkey\u001b[0m\u001b[1;33m)\u001b[0m\u001b[1;33m\u001b[0m\u001b[1;33m\u001b[0m\u001b[0m\n\u001b[0;32m   2658\u001b[0m             \u001b[1;32mexcept\u001b[0m \u001b[0mKeyError\u001b[0m\u001b[1;33m:\u001b[0m\u001b[1;33m\u001b[0m\u001b[1;33m\u001b[0m\u001b[0m\n\u001b[1;32m-> 2659\u001b[1;33m                 \u001b[1;32mreturn\u001b[0m \u001b[0mself\u001b[0m\u001b[1;33m.\u001b[0m\u001b[0m_engine\u001b[0m\u001b[1;33m.\u001b[0m\u001b[0mget_loc\u001b[0m\u001b[1;33m(\u001b[0m\u001b[0mself\u001b[0m\u001b[1;33m.\u001b[0m\u001b[0m_maybe_cast_indexer\u001b[0m\u001b[1;33m(\u001b[0m\u001b[0mkey\u001b[0m\u001b[1;33m)\u001b[0m\u001b[1;33m)\u001b[0m\u001b[1;33m\u001b[0m\u001b[1;33m\u001b[0m\u001b[0m\n\u001b[0m\u001b[0;32m   2660\u001b[0m         \u001b[0mindexer\u001b[0m \u001b[1;33m=\u001b[0m \u001b[0mself\u001b[0m\u001b[1;33m.\u001b[0m\u001b[0mget_indexer\u001b[0m\u001b[1;33m(\u001b[0m\u001b[1;33m[\u001b[0m\u001b[0mkey\u001b[0m\u001b[1;33m]\u001b[0m\u001b[1;33m,\u001b[0m \u001b[0mmethod\u001b[0m\u001b[1;33m=\u001b[0m\u001b[0mmethod\u001b[0m\u001b[1;33m,\u001b[0m \u001b[0mtolerance\u001b[0m\u001b[1;33m=\u001b[0m\u001b[0mtolerance\u001b[0m\u001b[1;33m)\u001b[0m\u001b[1;33m\u001b[0m\u001b[1;33m\u001b[0m\u001b[0m\n\u001b[0;32m   2661\u001b[0m         \u001b[1;32mif\u001b[0m \u001b[0mindexer\u001b[0m\u001b[1;33m.\u001b[0m\u001b[0mndim\u001b[0m \u001b[1;33m>\u001b[0m \u001b[1;36m1\u001b[0m \u001b[1;32mor\u001b[0m \u001b[0mindexer\u001b[0m\u001b[1;33m.\u001b[0m\u001b[0msize\u001b[0m \u001b[1;33m>\u001b[0m \u001b[1;36m1\u001b[0m\u001b[1;33m:\u001b[0m\u001b[1;33m\u001b[0m\u001b[1;33m\u001b[0m\u001b[0m\n",
      "\u001b[1;32mpandas\\_libs\\index.pyx\u001b[0m in \u001b[0;36mpandas._libs.index.IndexEngine.get_loc\u001b[1;34m()\u001b[0m\n",
      "\u001b[1;32mpandas\\_libs\\index.pyx\u001b[0m in \u001b[0;36mpandas._libs.index.IndexEngine.get_loc\u001b[1;34m()\u001b[0m\n",
      "\u001b[1;32mpandas\\_libs\\hashtable_class_helper.pxi\u001b[0m in \u001b[0;36mpandas._libs.hashtable.PyObjectHashTable.get_item\u001b[1;34m()\u001b[0m\n",
      "\u001b[1;32mpandas\\_libs\\hashtable_class_helper.pxi\u001b[0m in \u001b[0;36mpandas._libs.hashtable.PyObjectHashTable.get_item\u001b[1;34m()\u001b[0m\n",
      "\u001b[1;31mKeyError\u001b[0m: '77out'"
     ]
    }
   ],
   "source": [
    "out = []\n",
    "df = pd.DataFrame()\n",
    "for Date in dateindex:\n",
    "    interp = scipy.interpolate.interp1d(X, hist_zero_curves.iloc[Date, 1:], \n",
    "                                        bounds_error=False, fill_value=scipy.nan)\n",
    "#    out.append(float(interp(365)))\n",
    "    for x in tointerp:\n",
    "        \n",
    "        \n",
    "        df[str(x) + 'out'].append(float(interp(x)))\n",
    "        #x = (float(interp(x)))\n",
    "        #output = pd.DataFrame().append(float(interp(x)))\n",
    "        \n"
   ]
  },
  {
   "cell_type": "code",
   "execution_count": 59,
   "metadata": {},
   "outputs": [
    {
     "data": {
      "text/html": [
       "<div>\n",
       "<style scoped>\n",
       "    .dataframe tbody tr th:only-of-type {\n",
       "        vertical-align: middle;\n",
       "    }\n",
       "\n",
       "    .dataframe tbody tr th {\n",
       "        vertical-align: top;\n",
       "    }\n",
       "\n",
       "    .dataframe thead th {\n",
       "        text-align: right;\n",
       "    }\n",
       "</style>\n",
       "<table border=\"1\" class=\"dataframe\">\n",
       "  <thead>\n",
       "    <tr style=\"text-align: right;\">\n",
       "      <th></th>\n",
       "      <th>77out</th>\n",
       "      <th>105out</th>\n",
       "      <th>166out</th>\n",
       "      <th>260out</th>\n",
       "      <th>290out</th>\n",
       "      <th>348out</th>\n",
       "      <th>446out</th>\n",
       "      <th>474out</th>\n",
       "      <th>532out</th>\n",
       "      <th>628out</th>\n",
       "      <th>...</th>\n",
       "      <th>713out</th>\n",
       "      <th>811out</th>\n",
       "      <th>842out</th>\n",
       "      <th>897out</th>\n",
       "      <th>993out</th>\n",
       "      <th>1023out</th>\n",
       "      <th>1078out</th>\n",
       "      <th>1176out</th>\n",
       "      <th>1207out</th>\n",
       "      <th>1358out</th>\n",
       "    </tr>\n",
       "  </thead>\n",
       "  <tbody>\n",
       "  </tbody>\n",
       "</table>\n",
       "<p>0 rows × 21 columns</p>\n",
       "</div>"
      ],
      "text/plain": [
       "Empty DataFrame\n",
       "Columns: [77out, 105out, 166out, 260out, 290out, 348out, 446out, 474out, 532out, 628out, 655out, 713out, 811out, 842out, 897out, 993out, 1023out, 1078out, 1176out, 1207out, 1358out]\n",
       "Index: []\n",
       "\n",
       "[0 rows x 21 columns]"
      ]
     },
     "execution_count": 59,
     "metadata": {},
     "output_type": "execute_result"
    }
   ],
   "source": [
    "df"
   ]
  },
  {
   "cell_type": "code",
   "execution_count": null,
   "metadata": {},
   "outputs": [],
   "source": []
  },
  {
   "cell_type": "code",
   "execution_count": 66,
   "metadata": {},
   "outputs": [],
   "source": [
    "out77 = []\n",
    "\n",
    "for Date in dateindex:\n",
    "    interp = scipy.interpolate.interp1d(X, hist_zero_curves.iloc[Date, 1:], \n",
    "                                        bounds_error=False, fill_value=scipy.nan)\n",
    "    out77.append(float(interp(77)))\n",
    "    \n"
   ]
  },
  {
   "cell_type": "code",
   "execution_count": 67,
   "metadata": {},
   "outputs": [],
   "source": [
    "out105 = []\n",
    "\n",
    "for Date in dateindex:\n",
    "    interp = scipy.interpolate.interp1d(X, hist_zero_curves.iloc[Date, 1:], \n",
    "                                        bounds_error=False, fill_value=scipy.nan)\n",
    "    out105.append(float(interp(105)))\n",
    "    \n"
   ]
  },
  {
   "cell_type": "code",
   "execution_count": 68,
   "metadata": {},
   "outputs": [],
   "source": [
    "out166 = []\n",
    "\n",
    "for Date in dateindex:\n",
    "    interp = scipy.interpolate.interp1d(X, hist_zero_curves.iloc[Date, 1:], \n",
    "                                        bounds_error=False, fill_value=scipy.nan)\n",
    "    out166.append(float(interp(166)))\n",
    "___    \n",
    "out260 = []\n",
    "\n",
    "for Date in dateindex:\n",
    "    interp = scipy.interpolate.interp1d(X, hist_zero_curves.iloc[Date, 1:], \n",
    "                                        bounds_error=False, fill_value=scipy.nan)\n",
    "    out260.append(float(interp(260)))\n",
    "___    \n",
    "out348 = []\n",
    "\n",
    "for Date in dateindex:\n",
    "    interp = scipy.interpolate.interp1d(X, hist_zero_curves.iloc[Date, 1:], \n",
    "                                        bounds_error=False, fill_value=scipy.nan)\n",
    "    out348.append(float(interp(348)))\n",
    "    \n",
    "out348\n",
    "___\n",
    "out446 = []\n",
    "\n",
    "for Date in dateindex:\n",
    "    interp = scipy.interpolate.interp1d(X, hist_zero_curves.iloc[Date, 1:], \n",
    "                                        bounds_error=False, fill_value=scipy.nan)\n",
    "    out446.append(float(interp(446)))\n",
    "    \n"
   ]
  },
  {
   "cell_type": "code",
   "execution_count": 72,
   "metadata": {},
   "outputs": [
    {
     "name": "stdout",
     "output_type": "stream",
     "text": [
      "out77\n",
      "out105\n",
      "out166\n",
      "out260\n",
      "out290\n",
      "out348\n",
      "out446\n",
      "out474\n",
      "out532\n",
      "out628\n",
      "out655\n",
      "out713\n",
      "out811\n",
      "out842\n",
      "out897\n",
      "out993\n",
      "out1023\n",
      "out1078\n",
      "out1176\n",
      "out1207\n",
      "out1358\n"
     ]
    }
   ],
   "source": [
    "for x in tointerp:\n",
    "    dumb = ('out' + str(x))\n",
    "    print (dumb)\n",
    "    "
   ]
  },
  {
   "cell_type": "code",
   "execution_count": 79,
   "metadata": {},
   "outputs": [
    {
     "ename": "SyntaxError",
     "evalue": "can't assign to operator (<ipython-input-79-6ade88257c82>, line 6)",
     "output_type": "error",
     "traceback": [
      "\u001b[1;36m  File \u001b[1;32m\"<ipython-input-79-6ade88257c82>\"\u001b[1;36m, line \u001b[1;32m6\u001b[0m\n\u001b[1;33m    ('out' + str(x)) = []\u001b[0m\n\u001b[1;37m    ^\u001b[0m\n\u001b[1;31mSyntaxError\u001b[0m\u001b[1;31m:\u001b[0m can't assign to operator\n"
     ]
    }
   ],
   "source": [
    "for Date in dateindex:\n",
    "    interp = scipy.interpolate.interp1d(X, hist_zero_curves.iloc[Date, 1:], \n",
    "                                        bounds_error=False, fill_value=scipy.nan)\n",
    "#    out.append(float(interp(365)))\n",
    "    for x in tointerp:\n",
    "        ('out' + str(x)) = []\n",
    "        \n",
    "         \n",
    "        ('out' + str(x)).append(float(interp(x)))\n",
    "        \n",
    "        "
   ]
  },
  {
   "cell_type": "code",
   "execution_count": 77,
   "metadata": {},
   "outputs": [
    {
     "data": {
      "text/plain": [
       "[0.9052295890410959]"
      ]
     },
     "execution_count": 77,
     "metadata": {},
     "output_type": "execute_result"
    }
   ],
   "source": [
    "dumb"
   ]
  },
  {
   "cell_type": "code",
   "execution_count": null,
   "metadata": {},
   "outputs": [],
   "source": []
  }
 ],
 "metadata": {
  "kernelspec": {
   "display_name": "Python 3",
   "language": "python",
   "name": "python3"
  },
  "language_info": {
   "codemirror_mode": {
    "name": "ipython",
    "version": 3
   },
   "file_extension": ".py",
   "mimetype": "text/x-python",
   "name": "python",
   "nbconvert_exporter": "python",
   "pygments_lexer": "ipython3",
   "version": "3.7.3"
  }
 },
 "nbformat": 4,
 "nbformat_minor": 2
}
