{
 "cells": [
  {
   "cell_type": "code",
   "execution_count": 5,
   "metadata": {},
   "outputs": [],
   "source": [
    "import numpy as np\n",
    "import pandas as pd\n",
    "from scipy.stats import norm\n",
    "import seaborn as sns"
   ]
  },
  {
   "cell_type": "code",
   "execution_count": 2,
   "metadata": {},
   "outputs": [],
   "source": [
    "#bring in csv of spot rates\n",
    "spot_rates = pd.read_csv(\"spot_rates.csv\")\n",
    "spot_rates.head()\n",
    "\n",
    "list_of_rates = ['AUJPYSP', 'AUUSDSP', 'AUGBPSP', 'AUMYRSP', 'AUEU.SP', 'AUNZDSP']"
   ]
  },
  {
   "cell_type": "code",
   "execution_count": 3,
   "metadata": {},
   "outputs": [
    {
     "data": {
      "text/html": [
       "<div>\n",
       "<style scoped>\n",
       "    .dataframe tbody tr th:only-of-type {\n",
       "        vertical-align: middle;\n",
       "    }\n",
       "\n",
       "    .dataframe tbody tr th {\n",
       "        vertical-align: top;\n",
       "    }\n",
       "\n",
       "    .dataframe thead th {\n",
       "        text-align: right;\n",
       "    }\n",
       "</style>\n",
       "<table border=\"1\" class=\"dataframe\">\n",
       "  <thead>\n",
       "    <tr style=\"text-align: right;\">\n",
       "      <th></th>\n",
       "      <th>JPY</th>\n",
       "      <th>USD</th>\n",
       "      <th>GBP</th>\n",
       "      <th>MYR</th>\n",
       "      <th>EUR</th>\n",
       "      <th>NZD</th>\n",
       "    </tr>\n",
       "  </thead>\n",
       "  <tbody>\n",
       "    <tr>\n",
       "      <th>0</th>\n",
       "      <td>NaN</td>\n",
       "      <td>NaN</td>\n",
       "      <td>NaN</td>\n",
       "      <td>NaN</td>\n",
       "      <td>NaN</td>\n",
       "      <td>NaN</td>\n",
       "    </tr>\n",
       "    <tr>\n",
       "      <th>1</th>\n",
       "      <td>0.014596</td>\n",
       "      <td>0.005757</td>\n",
       "      <td>-0.007325</td>\n",
       "      <td>0.007630</td>\n",
       "      <td>0.021320</td>\n",
       "      <td>0.007832</td>\n",
       "    </tr>\n",
       "    <tr>\n",
       "      <th>2</th>\n",
       "      <td>0.030557</td>\n",
       "      <td>0.020315</td>\n",
       "      <td>0.031631</td>\n",
       "      <td>0.022749</td>\n",
       "      <td>0.019120</td>\n",
       "      <td>0.001161</td>\n",
       "    </tr>\n",
       "    <tr>\n",
       "      <th>3</th>\n",
       "      <td>0.012901</td>\n",
       "      <td>0.001826</td>\n",
       "      <td>-0.008994</td>\n",
       "      <td>0.008404</td>\n",
       "      <td>0.025635</td>\n",
       "      <td>0.009160</td>\n",
       "    </tr>\n",
       "    <tr>\n",
       "      <th>4</th>\n",
       "      <td>0.021336</td>\n",
       "      <td>0.013801</td>\n",
       "      <td>-0.003909</td>\n",
       "      <td>0.011506</td>\n",
       "      <td>0.016794</td>\n",
       "      <td>-0.007007</td>\n",
       "    </tr>\n",
       "    <tr>\n",
       "      <th>5</th>\n",
       "      <td>-0.036838</td>\n",
       "      <td>-0.023392</td>\n",
       "      <td>-0.035673</td>\n",
       "      <td>-0.013711</td>\n",
       "      <td>-0.032135</td>\n",
       "      <td>-0.004976</td>\n",
       "    </tr>\n",
       "    <tr>\n",
       "      <th>6</th>\n",
       "      <td>-0.011709</td>\n",
       "      <td>0.001982</td>\n",
       "      <td>-0.005570</td>\n",
       "      <td>0.005084</td>\n",
       "      <td>0.001159</td>\n",
       "      <td>-0.008097</td>\n",
       "    </tr>\n",
       "    <tr>\n",
       "      <th>7</th>\n",
       "      <td>-0.035811</td>\n",
       "      <td>-0.023036</td>\n",
       "      <td>-0.016461</td>\n",
       "      <td>-0.014722</td>\n",
       "      <td>-0.004062</td>\n",
       "      <td>-0.010955</td>\n",
       "    </tr>\n",
       "    <tr>\n",
       "      <th>8</th>\n",
       "      <td>-0.028511</td>\n",
       "      <td>-0.019438</td>\n",
       "      <td>0.001528</td>\n",
       "      <td>-0.017495</td>\n",
       "      <td>-0.015035</td>\n",
       "      <td>0.021376</td>\n",
       "    </tr>\n",
       "    <tr>\n",
       "      <th>9</th>\n",
       "      <td>-0.003642</td>\n",
       "      <td>-0.005772</td>\n",
       "      <td>0.009549</td>\n",
       "      <td>-0.008157</td>\n",
       "      <td>-0.000394</td>\n",
       "      <td>0.007684</td>\n",
       "    </tr>\n",
       "  </tbody>\n",
       "</table>\n",
       "</div>"
      ],
      "text/plain": [
       "        JPY       USD       GBP       MYR       EUR       NZD\n",
       "0       NaN       NaN       NaN       NaN       NaN       NaN\n",
       "1  0.014596  0.005757 -0.007325  0.007630  0.021320  0.007832\n",
       "2  0.030557  0.020315  0.031631  0.022749  0.019120  0.001161\n",
       "3  0.012901  0.001826 -0.008994  0.008404  0.025635  0.009160\n",
       "4  0.021336  0.013801 -0.003909  0.011506  0.016794 -0.007007\n",
       "5 -0.036838 -0.023392 -0.035673 -0.013711 -0.032135 -0.004976\n",
       "6 -0.011709  0.001982 -0.005570  0.005084  0.001159 -0.008097\n",
       "7 -0.035811 -0.023036 -0.016461 -0.014722 -0.004062 -0.010955\n",
       "8 -0.028511 -0.019438  0.001528 -0.017495 -0.015035  0.021376\n",
       "9 -0.003642 -0.005772  0.009549 -0.008157 -0.000394  0.007684"
      ]
     },
     "execution_count": 3,
     "metadata": {},
     "output_type": "execute_result"
    }
   ],
   "source": [
    "#get doy-on-day log returns of spot prices output into data frame \n",
    "spot_returns = pd.DataFrame()\n",
    "for x in list_of_rates:\n",
    "    #percentage returns commented below \n",
    "    #spot_returns[x + '_pct_return'] = spot_rates[x].pct_change()\n",
    "    spot_returns[x + '_log_return'] = np.log(spot_rates[x]).diff()\n",
    "    \n",
    "spot_returns.columns = ['JPY', 'USD', 'GBP', 'MYR', 'EUR', 'NZD']\n",
    "spot_returns.head(10)"
   ]
  },
  {
   "cell_type": "code",
   "execution_count": 4,
   "metadata": {},
   "outputs": [
    {
     "data": {
      "text/html": [
       "<div>\n",
       "<style scoped>\n",
       "    .dataframe tbody tr th:only-of-type {\n",
       "        vertical-align: middle;\n",
       "    }\n",
       "\n",
       "    .dataframe tbody tr th {\n",
       "        vertical-align: top;\n",
       "    }\n",
       "\n",
       "    .dataframe thead th {\n",
       "        text-align: right;\n",
       "    }\n",
       "</style>\n",
       "<table border=\"1\" class=\"dataframe\">\n",
       "  <thead>\n",
       "    <tr style=\"text-align: right;\">\n",
       "      <th></th>\n",
       "      <th>JPY</th>\n",
       "      <th>USD</th>\n",
       "      <th>GBP</th>\n",
       "      <th>MYR</th>\n",
       "      <th>EUR</th>\n",
       "      <th>NZD</th>\n",
       "    </tr>\n",
       "  </thead>\n",
       "  <tbody>\n",
       "    <tr>\n",
       "      <th>JPY</th>\n",
       "      <td>0.000081</td>\n",
       "      <td>0.000048</td>\n",
       "      <td>0.000030</td>\n",
       "      <td>0.000030</td>\n",
       "      <td>0.000032</td>\n",
       "      <td>0.000009</td>\n",
       "    </tr>\n",
       "    <tr>\n",
       "      <th>USD</th>\n",
       "      <td>0.000048</td>\n",
       "      <td>0.000051</td>\n",
       "      <td>0.000030</td>\n",
       "      <td>0.000032</td>\n",
       "      <td>0.000027</td>\n",
       "      <td>0.000007</td>\n",
       "    </tr>\n",
       "    <tr>\n",
       "      <th>GBP</th>\n",
       "      <td>0.000030</td>\n",
       "      <td>0.000030</td>\n",
       "      <td>0.000044</td>\n",
       "      <td>0.000021</td>\n",
       "      <td>0.000026</td>\n",
       "      <td>0.000008</td>\n",
       "    </tr>\n",
       "    <tr>\n",
       "      <th>MYR</th>\n",
       "      <td>0.000030</td>\n",
       "      <td>0.000032</td>\n",
       "      <td>0.000021</td>\n",
       "      <td>0.000032</td>\n",
       "      <td>0.000020</td>\n",
       "      <td>0.000006</td>\n",
       "    </tr>\n",
       "    <tr>\n",
       "      <th>EUR</th>\n",
       "      <td>0.000032</td>\n",
       "      <td>0.000027</td>\n",
       "      <td>0.000026</td>\n",
       "      <td>0.000020</td>\n",
       "      <td>0.000039</td>\n",
       "      <td>0.000009</td>\n",
       "    </tr>\n",
       "    <tr>\n",
       "      <th>NZD</th>\n",
       "      <td>0.000009</td>\n",
       "      <td>0.000007</td>\n",
       "      <td>0.000008</td>\n",
       "      <td>0.000006</td>\n",
       "      <td>0.000009</td>\n",
       "      <td>0.000021</td>\n",
       "    </tr>\n",
       "  </tbody>\n",
       "</table>\n",
       "</div>"
      ],
      "text/plain": [
       "          JPY       USD       GBP       MYR       EUR       NZD\n",
       "JPY  0.000081  0.000048  0.000030  0.000030  0.000032  0.000009\n",
       "USD  0.000048  0.000051  0.000030  0.000032  0.000027  0.000007\n",
       "GBP  0.000030  0.000030  0.000044  0.000021  0.000026  0.000008\n",
       "MYR  0.000030  0.000032  0.000021  0.000032  0.000020  0.000006\n",
       "EUR  0.000032  0.000027  0.000026  0.000020  0.000039  0.000009\n",
       "NZD  0.000009  0.000007  0.000008  0.000006  0.000009  0.000021"
      ]
     },
     "execution_count": 4,
     "metadata": {},
     "output_type": "execute_result"
    }
   ],
   "source": [
    "#create covarience matrix \n",
    "cov_matrix = spot_returns.cov()\n",
    "cov_matrix"
   ]
  },
  {
   "cell_type": "code",
   "execution_count": 7,
   "metadata": {},
   "outputs": [
    {
     "data": {
      "image/png": "[encoded data removed]",
      "text/plain": [
       "<Figure size 432x288 with 2 Axes>"
      ]
     },
     "metadata": {
      "needs_background": "light"
     },
     "output_type": "display_data"
    }
   ],
   "source": [
    "#correation matrix \n",
    "corr_matrix = spot_returns.corr()\n",
    "corr_matrix\n",
    "\n",
    "# plot the heatmap\n",
    "sns.heatmap(corr_matrix, \n",
    "        xticklabels=corr_matrix.columns,\n",
    "        yticklabels=corr_matrix.columns);"
   ]
  },
  {
   "cell_type": "code",
   "execution_count": 8,
   "metadata": {},
   "outputs": [],
   "source": [
    "Portfolio = pd.read_csv(\"spot_portfolio.csv\")"
   ]
  },
  {
   "cell_type": "code",
   "execution_count": 9,
   "metadata": {},
   "outputs": [
    {
     "data": {
      "text/html": [
       "<div>\n",
       "<style scoped>\n",
       "    .dataframe tbody tr th:only-of-type {\n",
       "        vertical-align: middle;\n",
       "    }\n",
       "\n",
       "    .dataframe tbody tr th {\n",
       "        vertical-align: top;\n",
       "    }\n",
       "\n",
       "    .dataframe thead th {\n",
       "        text-align: right;\n",
       "    }\n",
       "</style>\n",
       "<table border=\"1\" class=\"dataframe\">\n",
       "  <thead>\n",
       "    <tr style=\"text-align: right;\">\n",
       "      <th></th>\n",
       "      <th>Currency</th>\n",
       "      <th>AUD equvalents</th>\n",
       "      <th>ABS value</th>\n",
       "      <th>p_weight</th>\n",
       "    </tr>\n",
       "  </thead>\n",
       "  <tbody>\n",
       "    <tr>\n",
       "      <th>0</th>\n",
       "      <td>USD</td>\n",
       "      <td>20</td>\n",
       "      <td>20</td>\n",
       "      <td>0.148148</td>\n",
       "    </tr>\n",
       "    <tr>\n",
       "      <th>1</th>\n",
       "      <td>GBP</td>\n",
       "      <td>-15</td>\n",
       "      <td>15</td>\n",
       "      <td>0.111111</td>\n",
       "    </tr>\n",
       "    <tr>\n",
       "      <th>2</th>\n",
       "      <td>EUR</td>\n",
       "      <td>25</td>\n",
       "      <td>25</td>\n",
       "      <td>0.185185</td>\n",
       "    </tr>\n",
       "    <tr>\n",
       "      <th>3</th>\n",
       "      <td>JPY</td>\n",
       "      <td>-30</td>\n",
       "      <td>30</td>\n",
       "      <td>0.222222</td>\n",
       "    </tr>\n",
       "    <tr>\n",
       "      <th>4</th>\n",
       "      <td>NZD</td>\n",
       "      <td>25</td>\n",
       "      <td>25</td>\n",
       "      <td>0.185185</td>\n",
       "    </tr>\n",
       "    <tr>\n",
       "      <th>5</th>\n",
       "      <td>MYR</td>\n",
       "      <td>-20</td>\n",
       "      <td>20</td>\n",
       "      <td>0.148148</td>\n",
       "    </tr>\n",
       "  </tbody>\n",
       "</table>\n",
       "</div>"
      ],
      "text/plain": [
       "  Currency  AUD equvalents  ABS value  p_weight\n",
       "0      USD              20         20  0.148148\n",
       "1      GBP             -15         15  0.111111\n",
       "2      EUR              25         25  0.185185\n",
       "3      JPY             -30         30  0.222222\n",
       "4      NZD              25         25  0.185185\n",
       "5      MYR             -20         20  0.148148"
      ]
     },
     "execution_count": 9,
     "metadata": {},
     "output_type": "execute_result"
    }
   ],
   "source": [
    "Portfolio"
   ]
  },
  {
   "cell_type": "code",
   "execution_count": 13,
   "metadata": {},
   "outputs": [
    {
     "data": {
      "text/plain": [
       "489176621991.7505"
      ]
     },
     "execution_count": 13,
     "metadata": {},
     "output_type": "execute_result"
    }
   ],
   "source": [
    "X_Vector = [30000000, 20000000, 15000000, 20000000, 25000000, 25000000]\n",
    "\n",
    "Covar_X = cov_matrix.dot(X_Vector)\n",
    "\n",
    "X_Covar_X = Covar_X.dot(X_Vector)\n",
    "\n",
    "X_Covar_X"
   ]
  },
  {
   "cell_type": "code",
   "execution_count": 14,
   "metadata": {},
   "outputs": [
    {
     "data": {
      "text/plain": [
       "699411.6255766345"
      ]
     },
     "execution_count": 14,
     "metadata": {},
     "output_type": "execute_result"
    }
   ],
   "source": [
    "sqrt_covar = np.sqrt(X_Covar_X)\n",
    "sqrt_covar"
   ]
  },
  {
   "cell_type": "code",
   "execution_count": null,
   "metadata": {},
   "outputs": [],
   "source": []
  }
 ],
 "metadata": {
  "kernelspec": {
   "display_name": "Python 3",
   "language": "python",
   "name": "python3"
  },
  "language_info": {
   "codemirror_mode": {
    "name": "ipython",
    "version": 3
   },
   "file_extension": ".py",
   "mimetype": "text/x-python",
   "name": "python",
   "nbconvert_exporter": "python",
   "pygments_lexer": "ipython3",
   "version": "3.7.3"
  }
 },
 "nbformat": 4,
 "nbformat_minor": 2
}
