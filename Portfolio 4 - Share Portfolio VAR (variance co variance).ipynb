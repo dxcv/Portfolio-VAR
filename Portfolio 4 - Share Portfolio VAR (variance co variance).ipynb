{
 "cells": [
  {
   "cell_type": "code",
   "execution_count": 2,
   "metadata": {},
   "outputs": [],
   "source": [
    "import datetime as dt\n",
    "import numpy as np\n",
    "import pandas as pd\n",
    "import matplotlib.pyplot as plt \n",
    "from pandas_datareader import data as pdr\n",
    "from scipy.stats import norm"
   ]
  },
  {
   "cell_type": "code",
   "execution_count": 3,
   "metadata": {},
   "outputs": [],
   "source": [
    "shares = pd.read_csv('Physical_shares.csv')\n",
    "\n",
    "shares.set_index('Issuer', inplace = True)"
   ]
  },
  {
   "cell_type": "code",
   "execution_count": 4,
   "metadata": {},
   "outputs": [
    {
     "data": {
      "text/html": [
       "<div>\n",
       "<style scoped>\n",
       "    .dataframe tbody tr th:only-of-type {\n",
       "        vertical-align: middle;\n",
       "    }\n",
       "\n",
       "    .dataframe tbody tr th {\n",
       "        vertical-align: top;\n",
       "    }\n",
       "\n",
       "    .dataframe thead th {\n",
       "        text-align: right;\n",
       "    }\n",
       "</style>\n",
       "<table border=\"1\" class=\"dataframe\">\n",
       "  <thead>\n",
       "    <tr style=\"text-align: right;\">\n",
       "      <th></th>\n",
       "      <th>Number of Shares</th>\n",
       "      <th>Bought/Sold</th>\n",
       "    </tr>\n",
       "    <tr>\n",
       "      <th>Issuer</th>\n",
       "      <th></th>\n",
       "      <th></th>\n",
       "    </tr>\n",
       "  </thead>\n",
       "  <tbody>\n",
       "    <tr>\n",
       "      <th>BHP</th>\n",
       "      <td>5000</td>\n",
       "      <td>Bought</td>\n",
       "    </tr>\n",
       "    <tr>\n",
       "      <th>RIO</th>\n",
       "      <td>3000</td>\n",
       "      <td>Bought</td>\n",
       "    </tr>\n",
       "    <tr>\n",
       "      <th>CBA</th>\n",
       "      <td>4000</td>\n",
       "      <td>Bought</td>\n",
       "    </tr>\n",
       "    <tr>\n",
       "      <th>WESP</th>\n",
       "      <td>10000</td>\n",
       "      <td>Sold</td>\n",
       "    </tr>\n",
       "    <tr>\n",
       "      <th>WPL</th>\n",
       "      <td>5000</td>\n",
       "      <td>Bought</td>\n",
       "    </tr>\n",
       "    <tr>\n",
       "      <th>NAB</th>\n",
       "      <td>15000</td>\n",
       "      <td>Sold</td>\n",
       "    </tr>\n",
       "    <tr>\n",
       "      <th>TLS</th>\n",
       "      <td>30000</td>\n",
       "      <td>Sold</td>\n",
       "    </tr>\n",
       "  </tbody>\n",
       "</table>\n",
       "</div>"
      ],
      "text/plain": [
       "        Number of Shares Bought/Sold\n",
       "Issuer                              \n",
       "BHP                 5000      Bought\n",
       "RIO                 3000      Bought\n",
       "CBA                 4000      Bought\n",
       "WESP               10000        Sold\n",
       "WPL                 5000      Bought\n",
       "NAB                15000        Sold\n",
       "TLS                30000        Sold"
      ]
     },
     "execution_count": 4,
     "metadata": {},
     "output_type": "execute_result"
    }
   ],
   "source": [
    "shares"
   ]
  },
  {
   "cell_type": "code",
   "execution_count": 5,
   "metadata": {},
   "outputs": [
    {
     "data": {
      "text/html": [
       "<div>\n",
       "<style scoped>\n",
       "    .dataframe tbody tr th:only-of-type {\n",
       "        vertical-align: middle;\n",
       "    }\n",
       "\n",
       "    .dataframe tbody tr th {\n",
       "        vertical-align: top;\n",
       "    }\n",
       "\n",
       "    .dataframe thead th {\n",
       "        text-align: right;\n",
       "    }\n",
       "</style>\n",
       "<table border=\"1\" class=\"dataframe\">\n",
       "  <thead>\n",
       "    <tr style=\"text-align: right;\">\n",
       "      <th></th>\n",
       "      <th>ASX200</th>\n",
       "      <th>BHP</th>\n",
       "      <th>RIO</th>\n",
       "      <th>CBA</th>\n",
       "      <th>WESP</th>\n",
       "      <th>WPL</th>\n",
       "      <th>NAB</th>\n",
       "      <th>TLS</th>\n",
       "    </tr>\n",
       "    <tr>\n",
       "      <th>Date</th>\n",
       "      <th></th>\n",
       "      <th></th>\n",
       "      <th></th>\n",
       "      <th></th>\n",
       "      <th></th>\n",
       "      <th></th>\n",
       "      <th></th>\n",
       "      <th></th>\n",
       "    </tr>\n",
       "  </thead>\n",
       "  <tbody>\n",
       "    <tr>\n",
       "      <th>2019-07-29</th>\n",
       "      <td>6825.8</td>\n",
       "      <td>40.60</td>\n",
       "      <td>98.78</td>\n",
       "      <td>83.25</td>\n",
       "      <td>40.05</td>\n",
       "      <td>34.58</td>\n",
       "      <td>28.58</td>\n",
       "      <td>3.90</td>\n",
       "    </tr>\n",
       "    <tr>\n",
       "      <th>2019-07-30</th>\n",
       "      <td>6845.1</td>\n",
       "      <td>40.83</td>\n",
       "      <td>99.00</td>\n",
       "      <td>83.40</td>\n",
       "      <td>39.84</td>\n",
       "      <td>34.67</td>\n",
       "      <td>28.65</td>\n",
       "      <td>3.95</td>\n",
       "    </tr>\n",
       "    <tr>\n",
       "      <th>2019-07-31</th>\n",
       "      <td>6812.6</td>\n",
       "      <td>40.76</td>\n",
       "      <td>98.90</td>\n",
       "      <td>82.30</td>\n",
       "      <td>39.19</td>\n",
       "      <td>34.70</td>\n",
       "      <td>28.51</td>\n",
       "      <td>3.97</td>\n",
       "    </tr>\n",
       "    <tr>\n",
       "      <th>2019-08-01</th>\n",
       "      <td>6788.9</td>\n",
       "      <td>40.26</td>\n",
       "      <td>97.81</td>\n",
       "      <td>81.92</td>\n",
       "      <td>39.63</td>\n",
       "      <td>34.60</td>\n",
       "      <td>28.64</td>\n",
       "      <td>3.95</td>\n",
       "    </tr>\n",
       "    <tr>\n",
       "      <th>2019-08-02</th>\n",
       "      <td>6768.6</td>\n",
       "      <td>38.78</td>\n",
       "      <td>94.77</td>\n",
       "      <td>81.88</td>\n",
       "      <td>38.86</td>\n",
       "      <td>33.81</td>\n",
       "      <td>28.51</td>\n",
       "      <td>3.98</td>\n",
       "    </tr>\n",
       "  </tbody>\n",
       "</table>\n",
       "</div>"
      ],
      "text/plain": [
       "            ASX200    BHP    RIO    CBA   WESP    WPL    NAB   TLS\n",
       "Date                                                              \n",
       "2019-07-29  6825.8  40.60  98.78  83.25  40.05  34.58  28.58  3.90\n",
       "2019-07-30  6845.1  40.83  99.00  83.40  39.84  34.67  28.65  3.95\n",
       "2019-07-31  6812.6  40.76  98.90  82.30  39.19  34.70  28.51  3.97\n",
       "2019-08-01  6788.9  40.26  97.81  81.92  39.63  34.60  28.64  3.95\n",
       "2019-08-02  6768.6  38.78  94.77  81.88  38.86  33.81  28.51  3.98"
      ]
     },
     "execution_count": 5,
     "metadata": {},
     "output_type": "execute_result"
    }
   ],
   "source": [
    "sharedata = pd.read_csv('RSKMShares.csv', index_col = 'Date', parse_dates = True)\n",
    "sharedata.columns = ['ASX200', 'BHP', 'RIO', 'CBA', 'WESP', 'WPL', 'NAB', 'TLS']\n",
    "sharedata.tail()\n",
    "\n",
    "#sharedata = pd.read_csv('RSKMShares.csv')\n",
    "#sharedata.columns = ['Date', 'ASX200', 'BHP', 'RIO', 'CBA', 'WESP', 'WPL', 'NAB', 'TLS']\n",
    "#sharedata.head()"
   ]
  },
  {
   "cell_type": "code",
   "execution_count": 6,
   "metadata": {},
   "outputs": [
    {
     "name": "stderr",
     "output_type": "stream",
     "text": [
      "c:\\users\\mat\\appdata\\local\\programs\\python\\python37-32\\lib\\site-packages\\pandas\\plotting\\_converter.py:129: FutureWarning: Using an implicitly registered datetime converter for a matplotlib plotting method. The converter was registered by pandas on import. Future versions of pandas will require you to explicitly register matplotlib converters.\n",
      "\n",
      "To register the converters:\n",
      "\t>>> from pandas.plotting import register_matplotlib_converters\n",
      "\t>>> register_matplotlib_converters()\n",
      "  warnings.warn(msg, FutureWarning)\n"
     ]
    },
    {
     "data": {
      "image/png": "[encoded data removed]",
      "text/plain": [
       "<Figure size 432x288 with 1 Axes>"
      ]
     },
     "metadata": {
      "needs_background": "light"
     },
     "output_type": "display_data"
    }
   ],
   "source": [
    "plt.plot(sharedata['CBA']);"
   ]
  },
  {
   "cell_type": "code",
   "execution_count": 7,
   "metadata": {},
   "outputs": [],
   "source": [
    "share_log_returns = pd.DataFrame()\n",
    "share_list = ['ASX200', 'BHP', 'RIO', 'CBA', 'WESP', 'WPL', 'NAB', 'TLS']\n",
    "for x in share_list:\n",
    "    #percentage returns commented below \n",
    "    #spot_returns[x + '_pct_return'] = spot_rates[x].pct_change()\n",
    "    share_log_returns[x] = np.log(sharedata[x]).diff()"
   ]
  },
  {
   "cell_type": "code",
   "execution_count": 8,
   "metadata": {},
   "outputs": [
    {
     "data": {
      "text/html": [
       "<div>\n",
       "<style scoped>\n",
       "    .dataframe tbody tr th:only-of-type {\n",
       "        vertical-align: middle;\n",
       "    }\n",
       "\n",
       "    .dataframe tbody tr th {\n",
       "        vertical-align: top;\n",
       "    }\n",
       "\n",
       "    .dataframe thead th {\n",
       "        text-align: right;\n",
       "    }\n",
       "</style>\n",
       "<table border=\"1\" class=\"dataframe\">\n",
       "  <thead>\n",
       "    <tr style=\"text-align: right;\">\n",
       "      <th></th>\n",
       "      <th>ASX200</th>\n",
       "      <th>BHP</th>\n",
       "      <th>RIO</th>\n",
       "      <th>CBA</th>\n",
       "      <th>WESP</th>\n",
       "      <th>WPL</th>\n",
       "      <th>NAB</th>\n",
       "      <th>TLS</th>\n",
       "    </tr>\n",
       "    <tr>\n",
       "      <th>Date</th>\n",
       "      <th></th>\n",
       "      <th></th>\n",
       "      <th></th>\n",
       "      <th></th>\n",
       "      <th></th>\n",
       "      <th></th>\n",
       "      <th></th>\n",
       "      <th></th>\n",
       "    </tr>\n",
       "  </thead>\n",
       "  <tbody>\n",
       "    <tr>\n",
       "      <th>2019-07-29</th>\n",
       "      <td>0.004758</td>\n",
       "      <td>-0.006139</td>\n",
       "      <td>0.005278</td>\n",
       "      <td>0.007960</td>\n",
       "      <td>0.007770</td>\n",
       "      <td>0.006965</td>\n",
       "      <td>0.003154</td>\n",
       "      <td>0.015504</td>\n",
       "    </tr>\n",
       "    <tr>\n",
       "      <th>2019-07-30</th>\n",
       "      <td>0.002824</td>\n",
       "      <td>0.005649</td>\n",
       "      <td>0.002225</td>\n",
       "      <td>0.001800</td>\n",
       "      <td>-0.005257</td>\n",
       "      <td>0.002599</td>\n",
       "      <td>0.002446</td>\n",
       "      <td>0.012739</td>\n",
       "    </tr>\n",
       "    <tr>\n",
       "      <th>2019-07-31</th>\n",
       "      <td>-0.004759</td>\n",
       "      <td>-0.001716</td>\n",
       "      <td>-0.001011</td>\n",
       "      <td>-0.013277</td>\n",
       "      <td>-0.016450</td>\n",
       "      <td>0.000865</td>\n",
       "      <td>-0.004899</td>\n",
       "      <td>0.005051</td>\n",
       "    </tr>\n",
       "    <tr>\n",
       "      <th>2019-08-01</th>\n",
       "      <td>-0.003485</td>\n",
       "      <td>-0.012343</td>\n",
       "      <td>-0.011082</td>\n",
       "      <td>-0.004628</td>\n",
       "      <td>0.011165</td>\n",
       "      <td>-0.002886</td>\n",
       "      <td>0.004549</td>\n",
       "      <td>-0.005051</td>\n",
       "    </tr>\n",
       "    <tr>\n",
       "      <th>2019-08-02</th>\n",
       "      <td>-0.002995</td>\n",
       "      <td>-0.037454</td>\n",
       "      <td>-0.031574</td>\n",
       "      <td>-0.000488</td>\n",
       "      <td>-0.019621</td>\n",
       "      <td>-0.023097</td>\n",
       "      <td>-0.004549</td>\n",
       "      <td>0.007566</td>\n",
       "    </tr>\n",
       "  </tbody>\n",
       "</table>\n",
       "</div>"
      ],
      "text/plain": [
       "              ASX200       BHP       RIO       CBA      WESP       WPL  \\\n",
       "Date                                                                     \n",
       "2019-07-29  0.004758 -0.006139  0.005278  0.007960  0.007770  0.006965   \n",
       "2019-07-30  0.002824  0.005649  0.002225  0.001800 -0.005257  0.002599   \n",
       "2019-07-31 -0.004759 -0.001716 -0.001011 -0.013277 -0.016450  0.000865   \n",
       "2019-08-01 -0.003485 -0.012343 -0.011082 -0.004628  0.011165 -0.002886   \n",
       "2019-08-02 -0.002995 -0.037454 -0.031574 -0.000488 -0.019621 -0.023097   \n",
       "\n",
       "                 NAB       TLS  \n",
       "Date                            \n",
       "2019-07-29  0.003154  0.015504  \n",
       "2019-07-30  0.002446  0.012739  \n",
       "2019-07-31 -0.004899  0.005051  \n",
       "2019-08-01  0.004549 -0.005051  \n",
       "2019-08-02 -0.004549  0.007566  "
      ]
     },
     "execution_count": 8,
     "metadata": {},
     "output_type": "execute_result"
    }
   ],
   "source": [
    "share_log_returns.tail()"
   ]
  },
  {
   "cell_type": "code",
   "execution_count": 9,
   "metadata": {},
   "outputs": [
    {
     "name": "stderr",
     "output_type": "stream",
     "text": [
      "c:\\users\\mat\\appdata\\local\\programs\\python\\python37-32\\lib\\site-packages\\numpy\\lib\\histograms.py:824: RuntimeWarning: invalid value encountered in greater_equal\n",
      "  keep = (tmp_a >= first_edge)\n",
      "c:\\users\\mat\\appdata\\local\\programs\\python\\python37-32\\lib\\site-packages\\numpy\\lib\\histograms.py:825: RuntimeWarning: invalid value encountered in less_equal\n",
      "  keep &= (tmp_a <= last_edge)\n"
     ]
    },
    {
     "data": {
      "image/png": "[encoded data removed]",
      "text/plain": [
       "<Figure size 432x288 with 1 Axes>"
      ]
     },
     "metadata": {
      "needs_background": "light"
     },
     "output_type": "display_data"
    }
   ],
   "source": [
    "for x in share_list:\n",
    "    plt.hist(share_log_returns[x], bins = 100);"
   ]
  },
  {
   "cell_type": "code",
   "execution_count": 10,
   "metadata": {},
   "outputs": [
    {
     "data": {
      "text/html": [
       "<div>\n",
       "<style scoped>\n",
       "    .dataframe tbody tr th:only-of-type {\n",
       "        vertical-align: middle;\n",
       "    }\n",
       "\n",
       "    .dataframe tbody tr th {\n",
       "        vertical-align: top;\n",
       "    }\n",
       "\n",
       "    .dataframe thead th {\n",
       "        text-align: right;\n",
       "    }\n",
       "</style>\n",
       "<table border=\"1\" class=\"dataframe\">\n",
       "  <thead>\n",
       "    <tr style=\"text-align: right;\">\n",
       "      <th></th>\n",
       "      <th>ASX200</th>\n",
       "      <th>BHP</th>\n",
       "      <th>RIO</th>\n",
       "      <th>CBA</th>\n",
       "      <th>WESP</th>\n",
       "      <th>WPL</th>\n",
       "      <th>NAB</th>\n",
       "      <th>TLS</th>\n",
       "    </tr>\n",
       "  </thead>\n",
       "  <tbody>\n",
       "    <tr>\n",
       "      <th>ASX200</th>\n",
       "      <td>0.000082</td>\n",
       "      <td>0.000110</td>\n",
       "      <td>0.000115</td>\n",
       "      <td>0.000086</td>\n",
       "      <td>0.000067</td>\n",
       "      <td>0.000088</td>\n",
       "      <td>0.000095</td>\n",
       "      <td>0.000042</td>\n",
       "    </tr>\n",
       "    <tr>\n",
       "      <th>BHP</th>\n",
       "      <td>0.000110</td>\n",
       "      <td>0.000280</td>\n",
       "      <td>0.000254</td>\n",
       "      <td>0.000088</td>\n",
       "      <td>0.000078</td>\n",
       "      <td>0.000147</td>\n",
       "      <td>0.000101</td>\n",
       "      <td>0.000035</td>\n",
       "    </tr>\n",
       "    <tr>\n",
       "      <th>RIO</th>\n",
       "      <td>0.000115</td>\n",
       "      <td>0.000254</td>\n",
       "      <td>0.000351</td>\n",
       "      <td>0.000092</td>\n",
       "      <td>0.000083</td>\n",
       "      <td>0.000143</td>\n",
       "      <td>0.000109</td>\n",
       "      <td>0.000035</td>\n",
       "    </tr>\n",
       "    <tr>\n",
       "      <th>CBA</th>\n",
       "      <td>0.000086</td>\n",
       "      <td>0.000088</td>\n",
       "      <td>0.000092</td>\n",
       "      <td>0.000149</td>\n",
       "      <td>0.000066</td>\n",
       "      <td>0.000077</td>\n",
       "      <td>0.000119</td>\n",
       "      <td>0.000040</td>\n",
       "    </tr>\n",
       "    <tr>\n",
       "      <th>WESP</th>\n",
       "      <td>0.000067</td>\n",
       "      <td>0.000078</td>\n",
       "      <td>0.000083</td>\n",
       "      <td>0.000066</td>\n",
       "      <td>0.000157</td>\n",
       "      <td>0.000067</td>\n",
       "      <td>0.000071</td>\n",
       "      <td>0.000037</td>\n",
       "    </tr>\n",
       "    <tr>\n",
       "      <th>WPL</th>\n",
       "      <td>0.000088</td>\n",
       "      <td>0.000147</td>\n",
       "      <td>0.000143</td>\n",
       "      <td>0.000077</td>\n",
       "      <td>0.000067</td>\n",
       "      <td>0.000231</td>\n",
       "      <td>0.000089</td>\n",
       "      <td>0.000036</td>\n",
       "    </tr>\n",
       "    <tr>\n",
       "      <th>NAB</th>\n",
       "      <td>0.000095</td>\n",
       "      <td>0.000101</td>\n",
       "      <td>0.000109</td>\n",
       "      <td>0.000119</td>\n",
       "      <td>0.000071</td>\n",
       "      <td>0.000089</td>\n",
       "      <td>0.000183</td>\n",
       "      <td>0.000042</td>\n",
       "    </tr>\n",
       "    <tr>\n",
       "      <th>TLS</th>\n",
       "      <td>0.000042</td>\n",
       "      <td>0.000035</td>\n",
       "      <td>0.000035</td>\n",
       "      <td>0.000040</td>\n",
       "      <td>0.000037</td>\n",
       "      <td>0.000036</td>\n",
       "      <td>0.000042</td>\n",
       "      <td>0.000150</td>\n",
       "    </tr>\n",
       "  </tbody>\n",
       "</table>\n",
       "</div>"
      ],
      "text/plain": [
       "          ASX200       BHP       RIO       CBA      WESP       WPL       NAB  \\\n",
       "ASX200  0.000082  0.000110  0.000115  0.000086  0.000067  0.000088  0.000095   \n",
       "BHP     0.000110  0.000280  0.000254  0.000088  0.000078  0.000147  0.000101   \n",
       "RIO     0.000115  0.000254  0.000351  0.000092  0.000083  0.000143  0.000109   \n",
       "CBA     0.000086  0.000088  0.000092  0.000149  0.000066  0.000077  0.000119   \n",
       "WESP    0.000067  0.000078  0.000083  0.000066  0.000157  0.000067  0.000071   \n",
       "WPL     0.000088  0.000147  0.000143  0.000077  0.000067  0.000231  0.000089   \n",
       "NAB     0.000095  0.000101  0.000109  0.000119  0.000071  0.000089  0.000183   \n",
       "TLS     0.000042  0.000035  0.000035  0.000040  0.000037  0.000036  0.000042   \n",
       "\n",
       "             TLS  \n",
       "ASX200  0.000042  \n",
       "BHP     0.000035  \n",
       "RIO     0.000035  \n",
       "CBA     0.000040  \n",
       "WESP    0.000037  \n",
       "WPL     0.000036  \n",
       "NAB     0.000042  \n",
       "TLS     0.000150  "
      ]
     },
     "execution_count": 10,
     "metadata": {},
     "output_type": "execute_result"
    }
   ],
   "source": [
    "cov_matrix = share_log_returns.cov()\n",
    "cov_matrix"
   ]
  },
  {
   "cell_type": "code",
   "execution_count": 11,
   "metadata": {},
   "outputs": [
    {
     "data": {
      "text/html": [
       "<div>\n",
       "<style scoped>\n",
       "    .dataframe tbody tr th:only-of-type {\n",
       "        vertical-align: middle;\n",
       "    }\n",
       "\n",
       "    .dataframe tbody tr th {\n",
       "        vertical-align: top;\n",
       "    }\n",
       "\n",
       "    .dataframe thead th {\n",
       "        text-align: right;\n",
       "    }\n",
       "</style>\n",
       "<table border=\"1\" class=\"dataframe\">\n",
       "  <thead>\n",
       "    <tr style=\"text-align: right;\">\n",
       "      <th></th>\n",
       "      <th>BHP</th>\n",
       "      <th>RIO</th>\n",
       "      <th>CBA</th>\n",
       "      <th>WESP</th>\n",
       "      <th>WPL</th>\n",
       "      <th>NAB</th>\n",
       "      <th>TLS</th>\n",
       "    </tr>\n",
       "  </thead>\n",
       "  <tbody>\n",
       "    <tr>\n",
       "      <th>BHP</th>\n",
       "      <td>0.000280</td>\n",
       "      <td>0.000254</td>\n",
       "      <td>0.000088</td>\n",
       "      <td>0.000078</td>\n",
       "      <td>0.000147</td>\n",
       "      <td>0.000101</td>\n",
       "      <td>0.000035</td>\n",
       "    </tr>\n",
       "    <tr>\n",
       "      <th>RIO</th>\n",
       "      <td>0.000254</td>\n",
       "      <td>0.000351</td>\n",
       "      <td>0.000092</td>\n",
       "      <td>0.000083</td>\n",
       "      <td>0.000143</td>\n",
       "      <td>0.000109</td>\n",
       "      <td>0.000035</td>\n",
       "    </tr>\n",
       "    <tr>\n",
       "      <th>CBA</th>\n",
       "      <td>0.000088</td>\n",
       "      <td>0.000092</td>\n",
       "      <td>0.000149</td>\n",
       "      <td>0.000066</td>\n",
       "      <td>0.000077</td>\n",
       "      <td>0.000119</td>\n",
       "      <td>0.000040</td>\n",
       "    </tr>\n",
       "    <tr>\n",
       "      <th>WESP</th>\n",
       "      <td>0.000078</td>\n",
       "      <td>0.000083</td>\n",
       "      <td>0.000066</td>\n",
       "      <td>0.000157</td>\n",
       "      <td>0.000067</td>\n",
       "      <td>0.000071</td>\n",
       "      <td>0.000037</td>\n",
       "    </tr>\n",
       "    <tr>\n",
       "      <th>WPL</th>\n",
       "      <td>0.000147</td>\n",
       "      <td>0.000143</td>\n",
       "      <td>0.000077</td>\n",
       "      <td>0.000067</td>\n",
       "      <td>0.000231</td>\n",
       "      <td>0.000089</td>\n",
       "      <td>0.000036</td>\n",
       "    </tr>\n",
       "    <tr>\n",
       "      <th>NAB</th>\n",
       "      <td>0.000101</td>\n",
       "      <td>0.000109</td>\n",
       "      <td>0.000119</td>\n",
       "      <td>0.000071</td>\n",
       "      <td>0.000089</td>\n",
       "      <td>0.000183</td>\n",
       "      <td>0.000042</td>\n",
       "    </tr>\n",
       "    <tr>\n",
       "      <th>TLS</th>\n",
       "      <td>0.000035</td>\n",
       "      <td>0.000035</td>\n",
       "      <td>0.000040</td>\n",
       "      <td>0.000037</td>\n",
       "      <td>0.000036</td>\n",
       "      <td>0.000042</td>\n",
       "      <td>0.000150</td>\n",
       "    </tr>\n",
       "  </tbody>\n",
       "</table>\n",
       "</div>"
      ],
      "text/plain": [
       "           BHP       RIO       CBA      WESP       WPL       NAB       TLS\n",
       "BHP   0.000280  0.000254  0.000088  0.000078  0.000147  0.000101  0.000035\n",
       "RIO   0.000254  0.000351  0.000092  0.000083  0.000143  0.000109  0.000035\n",
       "CBA   0.000088  0.000092  0.000149  0.000066  0.000077  0.000119  0.000040\n",
       "WESP  0.000078  0.000083  0.000066  0.000157  0.000067  0.000071  0.000037\n",
       "WPL   0.000147  0.000143  0.000077  0.000067  0.000231  0.000089  0.000036\n",
       "NAB   0.000101  0.000109  0.000119  0.000071  0.000089  0.000183  0.000042\n",
       "TLS   0.000035  0.000035  0.000040  0.000037  0.000036  0.000042  0.000150"
      ]
     },
     "execution_count": 11,
     "metadata": {},
     "output_type": "execute_result"
    }
   ],
   "source": [
    "share_list2 = ['BHP', 'RIO', 'CBA', 'WESP', 'WPL', 'NAB', 'TLS']\n",
    "port_cov_matrix = share_log_returns[share_list2].cov()\n",
    "port_cov_matrix"
   ]
  },
  {
   "cell_type": "code",
   "execution_count": 12,
   "metadata": {},
   "outputs": [
    {
     "data": {
      "text/plain": [
       "{'ASX200': 0.00021657099386378497,\n",
       " 'BHP': 0.00011226126228626703,\n",
       " 'RIO': 0.00041694891847048347,\n",
       " 'CBA': 0.00037914478559660967,\n",
       " 'WESP': 0.0004225979897661213,\n",
       " 'WPL': -2.1906819989952014e-05,\n",
       " 'NAB': 0.0001317439424964622,\n",
       " 'TLS': 1.3914167368269306e-05}"
      ]
     },
     "execution_count": 12,
     "metadata": {},
     "output_type": "execute_result"
    }
   ],
   "source": [
    "avg_returns = {}\n",
    "\n",
    "for x in share_list:\n",
    "    \n",
    "    avg_returns[x] = share_log_returns[x].mean()\n",
    "\n",
    "#share_log_returns.mean()\n",
    "#avg_returns*100\n",
    "avg_returns"
   ]
  },
  {
   "cell_type": "code",
   "execution_count": 13,
   "metadata": {},
   "outputs": [
    {
     "data": {
      "text/plain": [
       "0.00011226126228626703"
      ]
     },
     "execution_count": 13,
     "metadata": {},
     "output_type": "execute_result"
    }
   ],
   "source": [
    "avg_returns['BHP']"
   ]
  },
  {
   "cell_type": "code",
   "execution_count": 14,
   "metadata": {},
   "outputs": [
    {
     "data": {
      "text/plain": [
       "28.5752"
      ]
     },
     "execution_count": 14,
     "metadata": {},
     "output_type": "execute_result"
    }
   ],
   "source": [
    "\n",
    "shares.at['BHP', 'Number of Shares']\n",
    "sharedata.loc['2009-01-02', 'BHP']\n"
   ]
  },
  {
   "cell_type": "code",
   "execution_count": 15,
   "metadata": {},
   "outputs": [],
   "source": [
    "#mark-to-market on 02/02/19\n",
    "mtm_shares = {}\n",
    "for s in share_list2:\n",
    "    mtm_shares[s] = shares.at[s, 'Number of Shares'] * sharedata.loc['2019-08-02', s]"
   ]
  },
  {
   "cell_type": "code",
   "execution_count": 16,
   "metadata": {},
   "outputs": [
    {
     "data": {
      "text/plain": [
       "{'BHP': 193900.0,\n",
       " 'RIO': 284310.0,\n",
       " 'CBA': 327520.0,\n",
       " 'WESP': 388600.0,\n",
       " 'WPL': 169050.0,\n",
       " 'NAB': 427650.0,\n",
       " 'TLS': 119400.0}"
      ]
     },
     "execution_count": 16,
     "metadata": {},
     "output_type": "execute_result"
    }
   ],
   "source": [
    "mtm_shares"
   ]
  },
  {
   "cell_type": "code",
   "execution_count": 17,
   "metadata": {},
   "outputs": [
    {
     "data": {
      "text/plain": [
       "11856.124680388011"
      ]
     },
     "execution_count": 17,
     "metadata": {},
     "output_type": "execute_result"
    }
   ],
   "source": [
    "matrix_7x1 = (193900.0, 284310.0, 327520.0, -388600.0, -169050.0, 427650.0, -119400.0)\n",
    "matrix_7x7 = port_cov_matrix\n",
    "\n",
    "result = matrix_7x7.dot(matrix_7x1)\n",
    "result\n",
    "varience = result.dot(matrix_7x1)\n",
    "\n",
    "STD = np.sqrt(varience)\n",
    "STD"
   ]
  },
  {
   "cell_type": "code",
   "execution_count": null,
   "metadata": {},
   "outputs": [],
   "source": []
  }
 ],
 "metadata": {
  "kernelspec": {
   "display_name": "Python 3",
   "language": "python",
   "name": "python3"
  },
  "language_info": {
   "codemirror_mode": {
    "name": "ipython",
    "version": 3
   },
   "file_extension": ".py",
   "mimetype": "text/x-python",
   "name": "python",
   "nbconvert_exporter": "python",
   "pygments_lexer": "ipython3",
   "version": "3.7.3"
  }
 },
 "nbformat": 4,
 "nbformat_minor": 2
}
