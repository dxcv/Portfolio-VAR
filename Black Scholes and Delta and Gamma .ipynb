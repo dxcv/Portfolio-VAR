{
 "cells": [
  {
   "cell_type": "code",
   "execution_count": 1,
   "metadata": {},
   "outputs": [],
   "source": [
    "import pandas as pd\n",
    "import numpy as np\n",
    "from scipy.stats import norm\n",
    "import matplotlib.pyplot as plt"
   ]
  },
  {
   "cell_type": "code",
   "execution_count": 9,
   "metadata": {},
   "outputs": [],
   "source": [
    "# The Black Scholes Formula\n",
    "# CallorPut\n",
    "# S - Stock price (known)\n",
    "# K - Strike price (known)\n",
    "# T - Time to maturity (known)\n",
    "# r - Riskfree interest rate (can be found)\n",
    "# d - Dividend yield (KNown(?))\n",
    "# v - Volatility (given)\n",
    "\n",
    "def BlackScholes(CallorPut, S, K, T, r, d, v):\n",
    "    d1 = (np.log(float(S)/K)+((r-d) + v*v/2.)*T)/(v*np.sqrt(T))\n",
    "    d2 = d1 - v*np.sqrt(T)\n",
    "    \n",
    "    if CallorPut == 'Call':\n",
    "        return S*np.exp(-d*T)*norm.cdf(d1) - K*np.exp(-r*T)*norm.cdf(d2)\n",
    "    else:\n",
    "        return K*np.exp(-r*T)*norm.cdf(-d2) - S*np.exp(-d*T)*norm.cdf(-d1)"
   ]
  },
  {
   "cell_type": "code",
   "execution_count": 10,
   "metadata": {},
   "outputs": [
    {
     "data": {
      "text/plain": [
       "38.45018828677898"
      ]
     },
     "execution_count": 10,
     "metadata": {},
     "output_type": "execute_result"
    }
   ],
   "source": [
    "BlackScholes('Call', 130, 100, 1.25, 0.1, 0.05, 0.35)"
   ]
  },
  {
   "cell_type": "code",
   "execution_count": 82,
   "metadata": {},
   "outputs": [],
   "source": [
    "# CallorPut\n",
    "# S - Stock price (known)\n",
    "# K - Strike price (known)\n",
    "# T - Time to maturity (known)\n",
    "# r - Riskfree interest rate (can be found)\n",
    "# d - Dividend yield (KNown(?))\n",
    "# v - Volatility (given)\n",
    "def bsdelta_call(CallorPut, S, K, T, r, d, v):\n",
    "    if S>0 and K>0 and T > 0:\n",
    "        \n",
    "        term1 = np.log(S / K) + (r - d) * T\n",
    "        term2 = v * v * T\n",
    "        term3 = np.sqrt(term2)\n",
    "        term4 = term2/2\n",
    "        \n",
    "        dPlus = (term1 + term4) / term3\n",
    "        \n",
    "        bsdelta_call = np.exp(-d * T) * norm.cdf(dPlus)\n",
    "        \n",
    "        if CallorPut == 'Call':\n",
    "            return bsdelta_call\n",
    "        else:\n",
    "            return 0 \n",
    "        \n",
    "    else:\n",
    "        \n",
    "        bsdelta_call = 0\n",
    "        return bsdelta_call"
   ]
  },
  {
   "cell_type": "code",
   "execution_count": 100,
   "metadata": {},
   "outputs": [],
   "source": [
    "def bsdelta_callput(Put_Call, S, K, T, r, d, v):\n",
    "    if S>0 and K>0 and T > 0 and v !=0:\n",
    "        \n",
    "        term1 = np.log(S / K) + (r - d) * T\n",
    "        term2 = v * v * T\n",
    "        term3 = np.sqrt(term2)\n",
    "        term4 = term2/2\n",
    "        \n",
    "        dPlus = (term1 + term4) / term3\n",
    "        \n",
    "        bsdelta_call = np.exp(-d * T) * norm.cdf(dPlus)\n",
    "        \n",
    "        if Put_Call == 'Call':\n",
    "            bsdelta_call = np.exp(-d * T) * norm.cdf(dPlus)\n",
    "            return bsdelta_call\n",
    "        \n",
    "        if Put_Call == 'Put':\n",
    "            bsdelta_put = -np.exp(-d * T) * norm.cdf(-dPlus)\n",
    "            return bsdelta_put \n",
    "        else:\n",
    "            return 0\n",
    "    else:\n",
    "        return 0"
   ]
  },
  {
   "cell_type": "code",
   "execution_count": 140,
   "metadata": {},
   "outputs": [],
   "source": [
    "def bsgamma_callput(Put_Call, S, K, T, r, d, v):\n",
    "    \n",
    "    if S > 0 and K > 0 and v != 0 and T > 0:\n",
    "        \n",
    "        term1 = np.log(S / K) + (r - d) * T\n",
    "        term2 = v * v * T \n",
    "        term3 = np.sqrt(term2) \n",
    "        term4 = term2 / 2\n",
    "        \n",
    "        dPlus = (term1 + term4) / term3\n",
    "        \n",
    "        if Put_Call == 'Call':\n",
    "            bsgamma_call = np.exp(-d * T) * norm.pdf(dPlus) / (S * term3)\n",
    "            return bsgamma_call\n",
    "        \n",
    "        if Put_Call == 'Put':\n",
    "            bsgamma_put = np.exp(-d * T) * norm.pdf(dPlus) / (S * term3)\n",
    "            return bsgamma_put\n",
    "        else:\n",
    "            return 0\n",
    "    else:\n",
    "        return 0 \n",
    "    "
   ]
  },
  {
   "cell_type": "code",
   "execution_count": 95,
   "metadata": {},
   "outputs": [
    {
     "data": {
      "text/plain": [
       "-0.6662259205603487"
      ]
     },
     "execution_count": 95,
     "metadata": {},
     "output_type": "execute_result"
    }
   ],
   "source": [
    "bsdelta_put('Put', 100, 100, 1.25, 0.1, 0.05, 0.35)"
   ]
  },
  {
   "cell_type": "code",
   "execution_count": 47,
   "metadata": {},
   "outputs": [],
   "source": [
    "Option_portfolio = pd.read_csv('Stock_Options.csv', index_col = 'Stock')"
   ]
  },
  {
   "cell_type": "code",
   "execution_count": 48,
   "metadata": {},
   "outputs": [
    {
     "data": {
      "text/html": [
       "<div>\n",
       "<style scoped>\n",
       "    .dataframe tbody tr th:only-of-type {\n",
       "        vertical-align: middle;\n",
       "    }\n",
       "\n",
       "    .dataframe tbody tr th {\n",
       "        vertical-align: top;\n",
       "    }\n",
       "\n",
       "    .dataframe thead th {\n",
       "        text-align: right;\n",
       "    }\n",
       "</style>\n",
       "<table border=\"1\" class=\"dataframe\">\n",
       "  <thead>\n",
       "    <tr style=\"text-align: right;\">\n",
       "      <th></th>\n",
       "      <th>Maturity</th>\n",
       "      <th>Put/Call</th>\n",
       "      <th>Bought/Sold</th>\n",
       "      <th>Number of Shares</th>\n",
       "      <th>K</th>\n",
       "      <th>v</th>\n",
       "      <th>T</th>\n",
       "      <th>S</th>\n",
       "      <th>d</th>\n",
       "    </tr>\n",
       "    <tr>\n",
       "      <th>Stock</th>\n",
       "      <th></th>\n",
       "      <th></th>\n",
       "      <th></th>\n",
       "      <th></th>\n",
       "      <th></th>\n",
       "      <th></th>\n",
       "      <th></th>\n",
       "      <th></th>\n",
       "      <th></th>\n",
       "    </tr>\n",
       "  </thead>\n",
       "  <tbody>\n",
       "    <tr>\n",
       "      <th>BHP</th>\n",
       "      <td>43808</td>\n",
       "      <td>Call</td>\n",
       "      <td>Bought</td>\n",
       "      <td>20000</td>\n",
       "      <td>39.0</td>\n",
       "      <td>0.2600</td>\n",
       "      <td>0.352778</td>\n",
       "      <td>40.60</td>\n",
       "      <td>0.0532</td>\n",
       "    </tr>\n",
       "    <tr>\n",
       "      <th>CBA</th>\n",
       "      <td>43898</td>\n",
       "      <td>Put</td>\n",
       "      <td>Bought</td>\n",
       "      <td>15000</td>\n",
       "      <td>75.0</td>\n",
       "      <td>0.2798</td>\n",
       "      <td>0.600000</td>\n",
       "      <td>81.88</td>\n",
       "      <td>0.0542</td>\n",
       "    </tr>\n",
       "    <tr>\n",
       "      <th>CBA</th>\n",
       "      <td>43933</td>\n",
       "      <td>Call</td>\n",
       "      <td>Bought</td>\n",
       "      <td>15000</td>\n",
       "      <td>75.0</td>\n",
       "      <td>0.2798</td>\n",
       "      <td>0.694444</td>\n",
       "      <td>81.88</td>\n",
       "      <td>0.0542</td>\n",
       "    </tr>\n",
       "    <tr>\n",
       "      <th>WESP</th>\n",
       "      <td>43955</td>\n",
       "      <td>Put</td>\n",
       "      <td>Bought</td>\n",
       "      <td>25000</td>\n",
       "      <td>38.1</td>\n",
       "      <td>0.3056</td>\n",
       "      <td>0.755556</td>\n",
       "      <td>38.86</td>\n",
       "      <td>0.0450</td>\n",
       "    </tr>\n",
       "    <tr>\n",
       "      <th>WESP</th>\n",
       "      <td>44050</td>\n",
       "      <td>Call</td>\n",
       "      <td>Bought</td>\n",
       "      <td>20000</td>\n",
       "      <td>39.0</td>\n",
       "      <td>0.3298</td>\n",
       "      <td>1.013889</td>\n",
       "      <td>38.86</td>\n",
       "      <td>0.0450</td>\n",
       "    </tr>\n",
       "    <tr>\n",
       "      <th>WPL</th>\n",
       "      <td>44141</td>\n",
       "      <td>Call</td>\n",
       "      <td>Sold</td>\n",
       "      <td>10000</td>\n",
       "      <td>35.0</td>\n",
       "      <td>0.2845</td>\n",
       "      <td>1.261111</td>\n",
       "      <td>33.81</td>\n",
       "      <td>0.0566</td>\n",
       "    </tr>\n",
       "    <tr>\n",
       "      <th>WPL</th>\n",
       "      <td>44171</td>\n",
       "      <td>Put</td>\n",
       "      <td>Bought</td>\n",
       "      <td>15000</td>\n",
       "      <td>33.0</td>\n",
       "      <td>0.2700</td>\n",
       "      <td>1.344444</td>\n",
       "      <td>33.81</td>\n",
       "      <td>0.0566</td>\n",
       "    </tr>\n",
       "  </tbody>\n",
       "</table>\n",
       "</div>"
      ],
      "text/plain": [
       "       Maturity Put/Call Bought/Sold  Number of Shares     K       v  \\\n",
       "Stock                                                                  \n",
       "BHP       43808     Call      Bought             20000  39.0  0.2600   \n",
       "CBA       43898      Put      Bought             15000  75.0  0.2798   \n",
       "CBA       43933     Call      Bought             15000  75.0  0.2798   \n",
       "WESP      43955      Put      Bought             25000  38.1  0.3056   \n",
       "WESP      44050     Call      Bought             20000  39.0  0.3298   \n",
       "WPL       44141     Call        Sold             10000  35.0  0.2845   \n",
       "WPL       44171      Put      Bought             15000  33.0  0.2700   \n",
       "\n",
       "              T      S       d  \n",
       "Stock                           \n",
       "BHP    0.352778  40.60  0.0532  \n",
       "CBA    0.600000  81.88  0.0542  \n",
       "CBA    0.694444  81.88  0.0542  \n",
       "WESP   0.755556  38.86  0.0450  \n",
       "WESP   1.013889  38.86  0.0450  \n",
       "WPL    1.261111  33.81  0.0566  \n",
       "WPL    1.344444  33.81  0.0566  "
      ]
     },
     "execution_count": 48,
     "metadata": {},
     "output_type": "execute_result"
    }
   ],
   "source": [
    "Option_portfolio"
   ]
  },
  {
   "cell_type": "code",
   "execution_count": 107,
   "metadata": {},
   "outputs": [
    {
     "data": {
      "text/plain": [
       "0.2798"
      ]
     },
     "execution_count": 107,
     "metadata": {},
     "output_type": "execute_result"
    }
   ],
   "source": [
    "Option_portfolio.iloc[1,5]"
   ]
  },
  {
   "cell_type": "code",
   "execution_count": 65,
   "metadata": {},
   "outputs": [
    {
     "data": {
      "text/plain": [
       "[0, 1, 2, 3, 4, 5, 6]"
      ]
     },
     "execution_count": 65,
     "metadata": {},
     "output_type": "execute_result"
    }
   ],
   "source": [
    "indl = list(range(0, 7))\n",
    "indl"
   ]
  },
  {
   "cell_type": "code",
   "execution_count": 109,
   "metadata": {},
   "outputs": [],
   "source": [
    "# CallorPut\n",
    "# S - Stock price (known)\n",
    "# K - Strike price (known)\n",
    "# T - Time to maturity (known)\n",
    "# r - Riskfree interest rate (can be found)\n",
    "# d - Dividend yield (KNown(?))\n",
    "# v - Volatility (given)\n",
    "BS = {}\n",
    "for x in indl:\n",
    "    BS[x] =  BlackScholes(\n",
    "        Option_portfolio.iloc[ x , 1],\n",
    "        Option_portfolio.iloc[ x , 7],\n",
    "        Option_portfolio.iloc[ x , 4],\n",
    "        Option_portfolio.iloc[ x , 6],\n",
    "        .1,\n",
    "        Option_portfolio.iloc[ x , 8],\n",
    "        Option_portfolio.iloc[ x , 5]) \n",
    "    "
   ]
  },
  {
   "cell_type": "code",
   "execution_count": 110,
   "metadata": {},
   "outputs": [
    {
     "data": {
      "text/plain": [
       "{0: 3.6418881692294356,\n",
       " 1: 3.0422680993453994,\n",
       " 2: 12.233033329189013,\n",
       " 3: 2.835464655018198,\n",
       " 4: 5.7734724354455516,\n",
       " 5: 4.2773059776256375,\n",
       " 6: 2.6292498244312057}"
      ]
     },
     "execution_count": 110,
     "metadata": {},
     "output_type": "execute_result"
    }
   ],
   "source": [
    "BS"
   ]
  },
  {
   "cell_type": "code",
   "execution_count": 113,
   "metadata": {},
   "outputs": [],
   "source": [
    "for x in indl:\n",
    "    BS[x] = BS[x] * Option_portfolio.iloc[ x , 3]\n",
    "    "
   ]
  },
  {
   "cell_type": "code",
   "execution_count": 114,
   "metadata": {},
   "outputs": [
    {
     "data": {
      "text/plain": [
       "{0: 72837.76338458872,\n",
       " 1: 45634.02149018099,\n",
       " 2: 183495.49993783518,\n",
       " 3: 70886.61637545495,\n",
       " 4: 115469.44870891103,\n",
       " 5: 42773.05977625638,\n",
       " 6: 39438.74736646809}"
      ]
     },
     "execution_count": 114,
     "metadata": {},
     "output_type": "execute_result"
    }
   ],
   "source": [
    "BS"
   ]
  },
  {
   "cell_type": "code",
   "execution_count": 111,
   "metadata": {},
   "outputs": [],
   "source": [
    "# CallorPut\n",
    "# S - Stock price (known)\n",
    "# K - Strike price (known)\n",
    "# T - Time to maturity (known)\n",
    "# r - Riskfree interest rate (can be found)\n",
    "# d - Dividend yield (KNown(?))\n",
    "# v - Volatility (given)\n",
    "OptionDelta = {}\n",
    "for x in indl:\n",
    "    OptionDelta[x] = bsdelta_callput(\n",
    "        Option_portfolio.iloc[ x , 1],\n",
    "        Option_portfolio.iloc[ x , 7],\n",
    "        Option_portfolio.iloc[ x , 4],\n",
    "        Option_portfolio.iloc[ x , 6],\n",
    "        0.1,\n",
    "        Option_portfolio.iloc[ x , 8],\n",
    "        Option_portfolio.iloc[ x , 5]\n",
    "        )"
   ]
  },
  {
   "cell_type": "code",
   "execution_count": 112,
   "metadata": {},
   "outputs": [
    {
     "data": {
      "text/plain": [
       "{0: 0.6591654464183279,\n",
       " 1: -0.25269679835508835,\n",
       " 2: 0.7082897183112543,\n",
       " 3: -0.3461046291616731,\n",
       " 4: 0.5987521929375278,\n",
       " 5: 0.5476307377671766,\n",
       " 6: -0.31240735153429217}"
      ]
     },
     "execution_count": 112,
     "metadata": {},
     "output_type": "execute_result"
    }
   ],
   "source": [
    "OptionDelta"
   ]
  },
  {
   "cell_type": "code",
   "execution_count": 76,
   "metadata": {},
   "outputs": [],
   "source": [
    "#DeltaTest = list(range(1, 251))\n",
    "#del_val_test = {}\n",
    "#for x in DeltaTest:\n",
    "#    del_val_test[x] = bsdelta_call('Call', x, 100, 1.25, 0.1, 0.05, 0.35)"
   ]
  },
  {
   "cell_type": "code",
   "execution_count": 127,
   "metadata": {},
   "outputs": [],
   "source": [
    "DeltaTest = list(range(1, 251))\n",
    "del_val_test = {}\n",
    "for x in DeltaTest:\n",
    "    del_val_test[x] = bsdelta_callput('Call', x, 100, 1.25, 0.1, 0.05, 0.35)"
   ]
  },
  {
   "cell_type": "code",
   "execution_count": 128,
   "metadata": {},
   "outputs": [
    {
     "data": {
      "text/plain": [
       "{1: 1.6881461559848415e-30,\n",
       " 2: 2.500409616075083e-22,\n",
       " 3: 3.564217994042738e-18,\n",
       " 4: 1.6593644029371887e-15,\n",
       " 5: 1.3492800800871033e-13,\n",
       " 6: 3.8703156640977506e-12,\n",
       " 7: 5.597694260572157e-11,\n",
       " 8: 5.008972016759133e-10,\n",
       " 9: 3.149498324377337e-09,\n",
       " 10: 1.5136441767558115e-08,\n",
       " 11: 5.8938075847091196e-08,\n",
       " 12: 1.9388135402753897e-07,\n",
       " 13: 5.557802504199337e-07,\n",
       " 14: 1.421390627644159e-06,\n",
       " 15: 3.302832228732589e-06,\n",
       " 16: 7.0741225057271485e-06,\n",
       " 17: 1.4128035883301522e-05,\n",
       " 18: 2.6557375614702363e-05,\n",
       " 19: 4.735113694710205e-05,\n",
       " 20: 8.059348742362314e-05,\n",
       " 21: 0.00013165228095958316,\n",
       " 22: 0.00020734399620345683,\n",
       " 23: 0.0003160633865514487,\n",
       " 24: 0.0004678684604052065,\n",
       " 25: 0.0006745143299677723,\n",
       " 26: 0.0009494326308083285,\n",
       " 27: 0.0013076563210401876,\n",
       " 28: 0.0017656924825686735,\n",
       " 29: 0.0023413481057986793,\n",
       " 30: 0.003053515652942159,\n",
       " 31: 0.003921926434613261,\n",
       " 32: 0.004966880519121088,\n",
       " 33: 0.006208962077665737,\n",
       " 34: 0.007668748826986075,\n",
       " 35: 0.009366523649920355,\n",
       " 36: 0.011321995641699265,\n",
       " 37: 0.013554036828988118,\n",
       " 38: 0.016080439714454848,\n",
       " 39: 0.018917699675619855,\n",
       " 40: 0.022080825144577022,\n",
       " 41: 0.025583177454547003,\n",
       " 42: 0.0294363412886743,\n",
       " 43: 0.03365002582464449,\n",
       " 44: 0.03823199594578839,\n",
       " 45: 0.0431880322886564,\n",
       " 46: 0.04852191841650452,\n",
       " 47: 0.05423545304158439,\n",
       " 48: 0.06032848495761522,\n",
       " 49: 0.06679896817654889,\n",
       " 50: 0.07364303467898305,\n",
       " 51: 0.08085508217327889,\n",
       " 52: 0.088427874302776,\n",
       " 53: 0.09635265083220922,\n",
       " 54: 0.10461924547312634,\n",
       " 55: 0.11321620916435428,\n",
       " 56: 0.12213093679906598,\n",
       " 57: 0.1313497955775192,\n",
       " 58: 0.14085825335795496,\n",
       " 59: 0.15064100557234997,\n",
       " 60: 0.16068209946457226,\n",
       " 61: 0.17096505459271158,\n",
       " 62: 0.18147297871244839,\n",
       " 63: 0.1921886783224579,\n",
       " 64: 0.20309476330477116,\n",
       " 65: 0.21417374523198904,\n",
       " 66: 0.22540812903891888,\n",
       " 67: 0.23678049786857033,\n",
       " 68: 0.24827359100176719,\n",
       " 69: 0.25987037486636805,\n",
       " 70: 0.2715541071968547,\n",
       " 71: 0.28330839447858597,\n",
       " 72: 0.2951172428641147,\n",
       " 73: 0.30696510279248,\n",
       " 74: 0.3188369075771787,\n",
       " 75: 0.3307181062554428,\n",
       " 76: 0.3425946910113498,\n",
       " 77: 0.35445321949897396,\n",
       " 78: 0.36628083240001374,\n",
       " 79: 0.37806526655384154,\n",
       " 80: 0.389794863997358,\n",
       " 81: 0.40145857724804596,\n",
       " 82: 0.4130459711567445,\n",
       " 83: 0.4245472216474331,\n",
       " 84: 0.4359531116501718,\n",
       " 85: 0.4472550245207176,\n",
       " 86: 0.4584449352265644,\n",
       " 87: 0.4695153995645811,\n",
       " 88: 0.4804595416603065,\n",
       " 89: 0.4912710399835505,\n",
       " 90: 0.5019441120994511,\n",
       " 91: 0.5124734983587187,\n",
       " 92: 0.5228544447156097,\n",
       " 93: 0.5330826848473244,\n",
       " 94: 0.54315442173413,\n",
       " 95: 0.5530663088456251,\n",
       " 96: 0.562815431065259,\n",
       " 97: 0.5723992854725479,\n",
       " 98: 0.5818157620903962,\n",
       " 99: 0.5910631246935775,\n",
       " 100: 0.6001399917637538,\n",
       " 101: 0.6090453176664177,\n",
       " 102: 0.6177783741158102,\n",
       " 103: 0.6263387319852165,\n",
       " 104: 0.6347262435120129,\n",
       " 105: 0.6429410249394472,\n",
       " 106: 0.6509834396303431,\n",
       " 107: 0.6588540816816898,\n",
       " 108: 0.6665537600634105,\n",
       " 109: 0.6740834832994447,\n",
       " 110: 0.6814444447046138,\n",
       " 111: 0.6886380081865349,\n",
       " 112: 0.6956656946180716,\n",
       " 113: 0.7025291687824499,\n",
       " 114: 0.7092302268901596,\n",
       " 115: 0.715770784664131,\n",
       " 116: 0.7221528659873475,\n",
       " 117: 0.7283785921050274,\n",
       " 118: 0.7344501713717706,\n",
       " 119: 0.7403698895325479,\n",
       " 120: 0.7461401005251592,\n",
       " 121: 0.7517632177907129,\n",
       " 122: 0.7572417060778174,\n",
       " 123: 0.7625780737254668,\n",
       " 124: 0.7677748654090731,\n",
       " 125: 0.7728346553336768,\n",
       " 126: 0.7777600408581062,\n",
       " 127: 0.7825536365336712,\n",
       " 128: 0.7872180685409232,\n",
       " 129: 0.7917559695080228,\n",
       " 130: 0.7961699736943553,\n",
       " 131: 0.8004627125231971,\n",
       " 132: 0.8046368104474608,\n",
       " 133: 0.8086948811328065,\n",
       " 134: 0.8126395239427397,\n",
       " 135: 0.8164733207106464,\n",
       " 136: 0.8201988327841098,\n",
       " 137: 0.8238185983272532,\n",
       " 138: 0.8273351298672751,\n",
       " 139: 0.8307509120717851,\n",
       " 140: 0.8340683997439987,\n",
       " 141: 0.8372900160233062,\n",
       " 142: 0.8404181507791911,\n",
       " 143: 0.8434551591869442,\n",
       " 144: 0.8464033604740706,\n",
       " 145: 0.8492650368267615,\n",
       " 146: 0.8520424324462453,\n",
       " 147: 0.8547377527452912,\n",
       " 148: 0.8573531636755684,\n",
       " 149: 0.859890791177014,\n",
       " 150: 0.8623527207407629,\n",
       " 151: 0.864740997077626,\n",
       " 152: 0.867057623884486,\n",
       " 153: 0.8693045637013821,\n",
       " 154: 0.8714837378524216,\n",
       " 155: 0.8735970264640269,\n",
       " 156: 0.8756462685543716,\n",
       " 157: 0.8776332621882021,\n",
       " 158: 0.8795597646915664,\n",
       " 159: 0.8814274929212775,\n",
       " 160: 0.8832381235842512,\n",
       " 161: 0.8849932936021297,\n",
       " 162: 0.8866946005168923,\n",
       " 163: 0.8883436029334068,\n",
       " 164: 0.8899418209951271,\n",
       " 165: 0.8914907368893901,\n",
       " 166: 0.8929917953789783,\n",
       " 167: 0.8944464043568457,\n",
       " 168: 0.8958559354210995,\n",
       " 169: 0.8972217244675318,\n",
       " 170: 0.8985450722971794,\n",
       " 171: 0.8998272452365658,\n",
       " 172: 0.9010694757684439,\n",
       " 173: 0.9022729631710205,\n",
       " 174: 0.903438874163787,\n",
       " 175: 0.9045683435582262,\n",
       " 176: 0.9056624749117944,\n",
       " 177: 0.906722341183705,\n",
       " 178: 0.9077489853911587,\n",
       " 179: 0.9087434212647733,\n",
       " 180: 0.9097066339020738,\n",
       " 181: 0.9106395804180007,\n",
       " 182: 0.9115431905914845,\n",
       " 183: 0.9124183675072242,\n",
       " 184: 0.9132659881918868,\n",
       " 185: 0.91408690424402,\n",
       " 186: 0.914881942457043,\n",
       " 187: 0.9156519054347451,\n",
       " 188: 0.9163975721987847,\n",
       " 189: 0.9171196987877395,\n",
       " 190: 0.9178190188473098,\n",
       " 191: 0.9184962442113314,\n",
       " 192: 0.9191520654732963,\n",
       " 193: 0.9197871525481272,\n",
       " 194: 0.9204021552239875,\n",
       " 195: 0.9209977037039502,\n",
       " 196: 0.9215744091373792,\n",
       " 197: 0.9221328641409122,\n",
       " 198: 0.9226736433089594,\n",
       " 199: 0.9231973037136636,\n",
       " 200: 0.92370438539429,\n",
       " 201: 0.9241954118360344,\n",
       " 202: 0.9246708904382651,\n",
       " 203: 0.9251313129722267,\n",
       " 204: 0.9255771560282563,\n",
       " 205: 0.926008881452574,\n",
       " 206: 0.9264269367737286,\n",
       " 207: 0.9268317556187877,\n",
       " 208: 0.9272237581193771,\n",
       " 209: 0.927603351307681,\n",
       " 210: 0.9279709295025284,\n",
       " 211: 0.9283268746856933,\n",
       " 212: 0.9286715568685513,\n",
       " 213: 0.9290053344492343,\n",
       " 214: 0.9293285545604343,\n",
       " 215: 0.9296415534080138,\n",
       " 216: 0.9299446566005789,\n",
       " 217: 0.9302381794701805,\n",
       " 218: 0.9305224273843078,\n",
       " 219: 0.9307976960493429,\n",
       " 220: 0.9310642718056462,\n",
       " 221: 0.9313224319144418,\n",
       " 222: 0.931572444836677,\n",
       " 223: 0.9318145705040272,\n",
       " 224: 0.9320490605822167,\n",
       " 225: 0.9322761587268309,\n",
       " 226: 0.9324961008317869,\n",
       " 227: 0.9327091152706367,\n",
       " 228: 0.9329154231308692,\n",
       " 229: 0.9331152384413814,\n",
       " 230: 0.9333087683932836,\n",
       " 231: 0.9334962135542034,\n",
       " 232: 0.9336777680762511,\n",
       " 233: 0.9338536198978085,\n",
       " 234: 0.934023950939296,\n",
       " 235: 0.9341889372930788,\n",
       " 236: 0.934348749407661,\n",
       " 237: 0.9345035522663222,\n",
       " 238: 0.9346535055603442,\n",
       " 239: 0.9347987638569718,\n",
       " 240: 0.9349394767622544,\n",
       " 241: 0.935075789078905,\n",
       " 242: 0.935207840959318,\n",
       " 243: 0.9353357680538775,\n",
       " 244: 0.9354597016546906,\n",
       " 245: 0.9355797688348724,\n",
       " 246: 0.9356960925835127,\n",
       " 247: 0.9358087919364444,\n",
       " 248: 0.9359179821029362,\n",
       " 249: 0.9360237745884278,\n",
       " 250: 0.9361262773134224}"
      ]
     },
     "execution_count": 128,
     "metadata": {},
     "output_type": "execute_result"
    }
   ],
   "source": [
    "del_val_test"
   ]
  },
  {
   "cell_type": "code",
   "execution_count": 141,
   "metadata": {},
   "outputs": [
    {
     "data": {
      "text/plain": [
       "<matplotlib.axes._subplots.AxesSubplot at 0x376e110>"
      ]
     },
     "execution_count": 141,
     "metadata": {},
     "output_type": "execute_result"
    },
    {
     "data": {
      "image/png": "[encoded data removed]",
      "text/plain": [
       "<Figure size 432x288 with 1 Axes>"
      ]
     },
     "metadata": {
      "needs_background": "light"
     },
     "output_type": "display_data"
    }
   ],
   "source": [
    "GammaTest = list(range(1, 251))\n",
    "gam_val_test = {}\n",
    "for x in DeltaTest:\n",
    "    gam_val_test[x] = bsgamma_callput('Put', x, 100, 1.25, 0.1, 0.05, 0.35)\n",
    "    \n",
    "GammaStrike = pd.DataFrame((list(gam_val_test.items())), columns = ['Price', 'Gamma'])\n",
    "GammaStrike.plot(x='Price', y='Gamma')"
   ]
  },
  {
   "cell_type": "code",
   "execution_count": null,
   "metadata": {},
   "outputs": [],
   "source": []
  },
  {
   "cell_type": "code",
   "execution_count": 129,
   "metadata": {},
   "outputs": [],
   "source": [
    "DeltaStrike = pd.DataFrame((list(del_val_test.items())), columns = ['Price', 'Delta'])"
   ]
  },
  {
   "cell_type": "code",
   "execution_count": 130,
   "metadata": {},
   "outputs": [
    {
     "data": {
      "text/html": [
       "<div>\n",
       "<style scoped>\n",
       "    .dataframe tbody tr th:only-of-type {\n",
       "        vertical-align: middle;\n",
       "    }\n",
       "\n",
       "    .dataframe tbody tr th {\n",
       "        vertical-align: top;\n",
       "    }\n",
       "\n",
       "    .dataframe thead th {\n",
       "        text-align: right;\n",
       "    }\n",
       "</style>\n",
       "<table border=\"1\" class=\"dataframe\">\n",
       "  <thead>\n",
       "    <tr style=\"text-align: right;\">\n",
       "      <th></th>\n",
       "      <th>Price</th>\n",
       "      <th>Delta</th>\n",
       "    </tr>\n",
       "  </thead>\n",
       "  <tbody>\n",
       "    <tr>\n",
       "      <th>0</th>\n",
       "      <td>1</td>\n",
       "      <td>1.688146e-30</td>\n",
       "    </tr>\n",
       "    <tr>\n",
       "      <th>1</th>\n",
       "      <td>2</td>\n",
       "      <td>2.500410e-22</td>\n",
       "    </tr>\n",
       "    <tr>\n",
       "      <th>2</th>\n",
       "      <td>3</td>\n",
       "      <td>3.564218e-18</td>\n",
       "    </tr>\n",
       "    <tr>\n",
       "      <th>3</th>\n",
       "      <td>4</td>\n",
       "      <td>1.659364e-15</td>\n",
       "    </tr>\n",
       "    <tr>\n",
       "      <th>4</th>\n",
       "      <td>5</td>\n",
       "      <td>1.349280e-13</td>\n",
       "    </tr>\n",
       "  </tbody>\n",
       "</table>\n",
       "</div>"
      ],
      "text/plain": [
       "   Price         Delta\n",
       "0      1  1.688146e-30\n",
       "1      2  2.500410e-22\n",
       "2      3  3.564218e-18\n",
       "3      4  1.659364e-15\n",
       "4      5  1.349280e-13"
      ]
     },
     "execution_count": 130,
     "metadata": {},
     "output_type": "execute_result"
    }
   ],
   "source": [
    "DeltaStrike.head()"
   ]
  },
  {
   "cell_type": "code",
   "execution_count": 131,
   "metadata": {},
   "outputs": [],
   "source": [
    "import matplotlib.pyplot as plt"
   ]
  },
  {
   "cell_type": "code",
   "execution_count": 133,
   "metadata": {},
   "outputs": [
    {
     "data": {
      "text/plain": [
       "<matplotlib.axes._subplots.AxesSubplot at 0x15881b0>"
      ]
     },
     "execution_count": 133,
     "metadata": {},
     "output_type": "execute_result"
    },
    {
     "data": {
      "image/png": "[encoded data removed]",
      "text/plain": [
       "<Figure size 432x288 with 1 Axes>"
      ]
     },
     "metadata": {
      "needs_background": "light"
     },
     "output_type": "display_data"
    }
   ],
   "source": [
    "DeltaStrike.plot(x='Price', y='Delta')"
   ]
  },
  {
   "cell_type": "code",
   "execution_count": null,
   "metadata": {},
   "outputs": [],
   "source": []
  },
  {
   "cell_type": "code",
   "execution_count": 136,
   "metadata": {},
   "outputs": [],
   "source": []
  },
  {
   "cell_type": "code",
   "execution_count": null,
   "metadata": {},
   "outputs": [],
   "source": []
  }
 ],
 "metadata": {
  "kernelspec": {
   "display_name": "Python 3",
   "language": "python",
   "name": "python3"
  },
  "language_info": {
   "codemirror_mode": {
    "name": "ipython",
    "version": 3
   },
   "file_extension": ".py",
   "mimetype": "text/x-python",
   "name": "python",
   "nbconvert_exporter": "python",
   "pygments_lexer": "ipython3",
   "version": "3.7.3"
  }
 },
 "nbformat": 4,
 "nbformat_minor": 2
}
